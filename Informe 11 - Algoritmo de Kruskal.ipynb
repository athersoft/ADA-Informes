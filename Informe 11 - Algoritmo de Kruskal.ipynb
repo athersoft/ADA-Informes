{
  "nbformat": 4,
  "nbformat_minor": 0,
  "metadata": {
    "colab": {
      "provenance": [],
      "authorship_tag": "ABX9TyO/GUCDrxVvpmaSZjmLAxe7",
      "include_colab_link": true
    },
    "kernelspec": {
      "name": "python3",
      "display_name": "Python 3"
    },
    "language_info": {
      "name": "python"
    }
  },
  "cells": [
    {
      "cell_type": "markdown",
      "metadata": {
        "id": "view-in-github",
        "colab_type": "text"
      },
      "source": [
        "<a href=\"https://colab.research.google.com/github/athersoft/ADA-Informes/blob/main/Informe%2011%20-%20Algoritmo%20de%20Kruskal.ipynb\" target=\"_parent\"><img src=\"https://colab.research.google.com/assets/colab-badge.svg\" alt=\"Open In Colab\"/></a>"
      ]
    },
    {
      "cell_type": "markdown",
      "source": [
        "#1-Descripcion del problema\n",
        "\n",
        "Entrada: Grafo conexo y no dirigido.\n",
        "\n",
        "Salida: Mínimo coste de las aristas que tengan conección con todos los nodos del grafo.\n",
        "\n",
        "Un árbol recubridor mínimo es un árbol recubridor que pesa menos o igual que todos los otros árboles recubridores, en palabras simples, se busca conseguir el conjunto de aristas más \"ligeras\" que recorren todos los nodos del grafo.\n",
        "\n",
        "La búsqueda de un arbol recubridor mínimo es un problema usual para el manejo e interpretación de datos conexos en áreas tan dispares como inteligencia artificial, interpretación de datos climatológicos o teecomunicaciónes.\n",
        "\n"
      ],
      "metadata": {
        "id": "7Q9nkNN4pTq3"
      }
    },
    {
      "cell_type": "markdown",
      "source": [
        "![Minimum_spanning_tree.svg.png](data:image/png;base64,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)"
      ],
      "metadata": {
        "id": "uh1xMghcrgre"
      }
    },
    {
      "cell_type": "markdown",
      "source": [
        "#2-Descripción del algoritmo\n",
        "\n",
        "El algoritmo selecciona la arista con menor costo que no genere ciclos, en caso de que hayan dos aristas que cumplan la condición, se seleccionan de manera aleatoria.\n",
        "\n",
        "Para comprobar si una arista genera un ciclo, se comprueban los padres de ambos nodos, si estos son iguales, generarían un ciclo sí que se descartan, en caso contrario, se agregan al MST.\n",
        "\n",
        "El proceso se repite hasta haber recorrido todas las aristas, obteniendo como resultado una conexión entre los nodos del grafo que representa el mínimo peso que se puede recorrer.\n",
        "\n",
        "Esta solución es \"Greedy\", ya que siempre seleccionará de manera consecutiva la opción con mayor \"ganancia\" de manera directa, sin  considerar otras posibles opciones."
      ],
      "metadata": {
        "id": "Cq9IJmTlsgg1"
      }
    },
    {
      "cell_type": "markdown",
      "source": [
        "#2.1-Codigo"
      ],
      "metadata": {
        "id": "0MG0thrUT8ze"
      }
    },
    {
      "cell_type": "code",
      "execution_count": 96,
      "metadata": {
        "colab": {
          "base_uri": "https://localhost:8080/"
        },
        "id": "pRKAOfsq2CkI",
        "outputId": "1117be32-7d6c-4a5f-810a-822d490ffca0"
      },
      "outputs": [
        {
          "output_type": "stream",
          "name": "stdout",
          "text": [
            "Aristas obtenidas\n",
            "\n",
            "( nodo 2 ) -- 4 -- ( nodo 3 )\n",
            "( nodo 0 ) -- 5 -- ( nodo 3 )\n",
            "( nodo 0 ) -- 10 -- ( nodo 1 )\n",
            "\n",
            "Coste del MST: 19\n"
          ]
        }
      ],
      "source": [
        "import networkx as nx\n",
        "import sys\n",
        "\n",
        "class Graph:\n",
        "\n",
        "    def __init__(self, vertices):\n",
        "        self.V = vertices \n",
        "        self.graph = []\n",
        "\n",
        "    def addEdge(self, u, v, w):\n",
        "        self.graph.append([u, v, w])\n",
        " \n",
        "    def find(self, parent, i):\n",
        "        if parent[i] != i:\n",
        "            parent[i] = self.find(parent, parent[i])\n",
        "        return parent[i]\n",
        "\n",
        "    def union(self, parent, rank, x, y):\n",
        "        \n",
        "        if rank[x] < rank[y]:\n",
        "            parent[x] = y\n",
        "        elif rank[x] > rank[y]:\n",
        "            parent[y] = x\n",
        "\n",
        "        else:\n",
        "            parent[y] = x\n",
        "            rank[x] += 1\n",
        " \n",
        "\n",
        "    def KruskalMST(self, visualize = False, verbose = False, mostrar = True):\n",
        " \n",
        "        result = []  \n",
        "        i = 0\n",
        "        e = 0\n",
        "\n",
        "        if (verbose == True):\n",
        "          print(\"Conexiones del grafo:\\n\")\n",
        "          for u, v, w in (self.graph):\n",
        "            print(f\"( nodo\",u,\")\", \"--\",w,\"--\", \"( nodo\", v, \")\")\n",
        "          print(\"\\n\")\n",
        "\n",
        "        self.graph = sorted(self.graph,\n",
        "                            key=lambda item: item[2])\n",
        " \n",
        "        if (verbose == True):\n",
        "          print(\"Grafo ordenado por peso de los vertices:\\n\")\n",
        "          for u, v, w in (self.graph):\n",
        "            print(f\"( nodo\",u,\")\", \"--\",w,\"--\", \"( nodo\", v, \")\")\n",
        "          print(\"\\nComprobacion de nodos:\\n\")\n",
        "\n",
        "        parent = []\n",
        "        rank = []\n",
        " \n",
        "        G = nx.Graph()\n",
        "\n",
        "        for node in range(self.V):\n",
        "            parent.append(node)\n",
        "            rank.append(0)\n",
        " \n",
        "        while e < self.V - 1:\n",
        " \n",
        "            u, v, w = self.graph[i]\n",
        "            i = i + 1\n",
        "            x = self.find(parent, u)\n",
        "            y = self.find(parent, v)\n",
        " \n",
        "            if verbose == True:\n",
        "              print(\"Padre ( nodo\", u, \") ----\", \"Hijo ( nodo\", x, \")\")\n",
        "              print(\"Padre ( nodo\", v, \") ----\", \"Hijo ( nodo\", y, \")\")\n",
        "              \n",
        "\n",
        "            if x != y:\n",
        "                if (verbose == True):\n",
        "                  print(\"Padres distintos, se agrega la arista\\n\")\n",
        "                e = e + 1\n",
        "                result.append([u, v, w])\n",
        "                self.union(parent, rank, x, y)\n",
        "            else:\n",
        "              if verbose == True:\n",
        "                print(\"Padres iguales, no se agrega la arista\\n\")\n",
        " \n",
        "        minimumCost = 0\n",
        "        \n",
        "        if mostrar:\n",
        "          print(\"Aristas obtenidas\\n\")\n",
        "        for u, v, weight in result:\n",
        "            minimumCost += weight\n",
        "            if mostrar:\n",
        "              print(f\"( nodo\",u,\")\", \"--\",weight,\"--\", \"( nodo\", v, \")\")\n",
        "\n",
        "            if(visualize == True):\n",
        "              G.add_node(u)\n",
        "              G.add_node(v)\n",
        "              G.add_edge(u, v, weight = weight)\n",
        "      \n",
        "        if (visualize == True):\n",
        "          fig, ax = plt.subplots()\n",
        "          ax.set_facecolor('white')\n",
        "          pos = graphviz_layout (G, prog = \"twopi\")\n",
        "\n",
        "          labels = nx.get_edge_attributes(G, 'weight')\n",
        "          nx.draw_networkx(G, pos)\n",
        "          nx.draw_networkx_edge_labels(G, edge_labels= labels, pos = pos)\n",
        "\n",
        "        if mostrar: \n",
        "          print(\"\\nCoste del MST:\", minimumCost)\n",
        " \n",
        " \n",
        "# Driver's code\n",
        "if __name__ == '__main__':\n",
        "\n",
        "    visualize = False\n",
        "    verbose = False\n",
        "\n",
        "    g = Graph(4)\n",
        "    g.addEdge(0, 1, 10)\n",
        "    g.addEdge(0, 2, 6)\n",
        "    g.addEdge(0, 3, 5)\n",
        "    g.addEdge(1, 3, 15)\n",
        "    g.addEdge(2, 3, 4)\n",
        "  \n",
        "    if visualize:\n",
        "      G = nx.Graph()\n",
        "      for u, v, weight in g.graph:\n",
        "          \n",
        "\n",
        "          G.add_node(u)\n",
        "          G.add_node(v)\n",
        "          G.add_edge(u, v, weight = weight)\n",
        "        \n",
        "      fig, ax = plt.subplots()\n",
        "      ax.set_facecolor('white')\n",
        "      pos = graphviz_layout(G, prog = \"twopi\")\n",
        "\n",
        "      labels = nx.get_edge_attributes(G, 'weight')\n",
        "      nx.draw_networkx(G, pos)\n",
        "      nx.draw_networkx_edge_labels(G, edge_labels= labels, pos = pos)\n",
        "\n",
        "    g.KruskalMST(visualize, verbose)\n",
        " "
      ]
    },
    {
      "cell_type": "markdown",
      "source": [
        "#2.2 Ejemplo de ejecución\n",
        "\n",
        "Usemos el siguiente grafo como ejemplo:\n",
        "\n"
      ],
      "metadata": {
        "id": "q_JImXtQhRtm"
      }
    },
    {
      "cell_type": "markdown",
      "source": [
        "![image-108.png](data:image/png;base64,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)"
      ],
      "metadata": {
        "id": "ArRhwJgihzsr"
      }
    },
    {
      "cell_type": "markdown",
      "source": [
        "Seleccionamos la arista con menos peso, en este caso, la arista que conecta a 0 con 2.\n",
        "\n",
        "![image-110.png](data:image/png;base64,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)\n",
        "\n",
        "La siguiente arista de menos peso es la 3 - 4\n",
        "\n",
        "![image-112.png](data:image/png;base64,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)\n",
        "\n",
        "Luego la 0 - 1\n",
        "\n",
        "![image-114.png](data:image/png;base64,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)\n",
        "\n",
        "La siguiente con menos peso es la 0 - 2, pero ya que esta genra un ciclo, nos la saltamos.\n",
        "\n",
        "Tomamos la 2 - 4 y y que todos los nodos están conectados, este es nuestro MST\n",
        "\n",
        "![image-116.png](data:image/png;base64,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)"
      ],
      "metadata": {
        "id": "WhTPqSuzh2TK"
      }
    },
    {
      "cell_type": "markdown",
      "source": [
        "#2.3 Ejecucion paso a paso\n",
        "\n",
        "Con la opción verbose = True podemos observar paso a paso la ejecución del algoritmo:\n",
        "\n",
        "Conexiones del grafo:\n",
        "\n",
        "( nodo 0 ) -- 10 -- ( nodo 1 )\n",
        "\n",
        "( nodo 0 ) -- 6 -- ( nodo 2 )\n",
        "\n",
        "( nodo 0 ) -- 5 -- ( nodo 3 )\n",
        "\n",
        "( nodo 1 ) -- 15 -- ( nodo 3 )\n",
        "\n",
        "( nodo 2 ) -- 4 -- ( nodo 3 )\n",
        "\n",
        "\n",
        "Grafo ordenado por peso de los vertices:\n",
        "\n",
        "( nodo 2 ) -- 4 -- ( nodo 3 )\n",
        "\n",
        "( nodo 0 ) -- 5 -- ( nodo 3 )\n",
        "\n",
        "( nodo 0 ) -- 6 -- ( nodo 2 )\n",
        "\n",
        "( nodo 0 ) -- 10 -- ( nodo 1 )\n",
        "\n",
        "( nodo 1 ) -- 15 -- ( nodo 3 )\n",
        "\n",
        "Comprobacion de nodos:\n",
        "\n",
        "Padre ( nodo 2 ) ---- Hijo ( nodo 2 )\n",
        "\n",
        "Padre ( nodo 3 ) ---- Hijo ( nodo 3 )\n",
        "\n",
        "Padres distintos, se agrega la arista\n",
        "\n",
        "Padre ( nodo 0 ) ---- Hijo ( nodo 0 )\n",
        "\n",
        "Padre ( nodo 3 ) ---- Hijo ( nodo 2 )\n",
        "\n",
        "Padres distintos, se agrega la arista\n",
        "\n",
        "Padre ( nodo 0 ) ---- Hijo ( nodo 2 )\n",
        "\n",
        "Padre ( nodo 2 ) ---- Hijo ( nodo 2 )\n",
        "\n",
        "Padres iguales, no se agrega la arista\n",
        "\n",
        "Padre ( nodo 0 ) ---- Hijo ( nodo 2 )\n",
        "\n",
        "Padre ( nodo 1 ) ---- Hijo ( nodo 1 )\n",
        "\n",
        "Padres distintos, se agrega la arista\n",
        "\n",
        "Aristas obtenidas\n",
        "\n",
        "( nodo 2 ) -- 4 -- ( nodo 3 )\n",
        "\n",
        "( nodo 0 ) -- 5 -- ( nodo 3 )\n",
        "\n",
        "( nodo 0 ) -- 10 -- ( nodo 1 )\n",
        "\n",
        "Coste del MST: 19"
      ],
      "metadata": {
        "id": "4I6_GerjUaap"
      }
    },
    {
      "cell_type": "markdown",
      "source": [
        "#3-Tiempo de ejecución\n",
        "\n",
        "El algoritmo Kruskal posee una complejidad temporal de $O(E*Log(V))$.\n",
        "\n",
        "Lo anterior se debe al paso a paso del algoritmo, ya que en un comienzo se ordenar los arcos ($E$) según su costo, lo que toma $O(E*Log(E))$.\n",
        "\n",
        "Luego se revisan los arcos que se puedan conectar, mientras que no se generen ciclos, ni que la cantidad de nodos conectados sea mayor a $V-1$. Para esto se utiliza Union-Find, que toma como máximo $O(log(V))$, esta operación se hace para todos los arcos del grafo. La complejidad general de esta parte sería de $O(E*(Log(V))$.\n",
        "\n",
        "Sumando las 2 operaciones da $O(E*Log(E)) + O(E*Log(V))$. Lo que tambien se puede expresar como $O(E*(Log(E) + Log(V) ))$.\n",
        "\n",
        "> $V$ es la cantidad de nodos del grafo recibido y $E$ es la cantidad de arcos del mismo grafo, y el estimado de estos es que se encuentran entre $V-1 \\leq E \\leq 2V$\n",
        "\n",
        "En algunos casos los tiempos de ejecución suelen ser de $O(E) = O(V)$, lo que significa que $O(log(E))$ es igual a $O(Log(V))$.\n",
        "\n",
        "Lo que significa que la suma de los tiempos de anteriores se pueden simplificar, de manera que quede como:\n",
        "\n",
        "$O(E*(Log(E) + Log(V) ))$ $=$ $O(E*(2*Log(E)))$.\n",
        "\n",
        "Lo anterior se puede simplificar aún más, pero para mayor precisión general, la complejidad se deja expresada como $O(E*Log(V))$, ya que aplica para más casos, ya que a veces $E$ llega a ser mucho mayor a $V$"
      ],
      "metadata": {
        "id": "NulczfIIxKNc"
      }
    },
    {
      "cell_type": "markdown",
      "source": [
        "#4-Correctitud\n",
        "\n",
        "##Teorema\n",
        "\n",
        "El algoritmo entrega un árbol de costo mínimo que conecta todos los nodos con arcos, de manera que no se generen ciclos.\n",
        "\n",
        "##Prueba del teorema\n",
        "\n",
        "Para comprobar la correctitud, utilizaremos la propiedad invariante de bucle:\n",
        "\n",
        "> En cada iteración $i$ del bucle, se tendrá un árbol con ϵ arcos, siendo estos menores a $V-1$, ni que los mismos generen ciclos.\n",
        "\n",
        "Lo que se quiere conseguir es que el árbol contega $V$ nodos y $V-1$ arcos, y en cada iteración $i$ es un nodo que se revisa.\n",
        "\n",
        "Kruskal puede utilizar más de un algoritmo para verificar si se generan ciclos, pero en esta implmentación se utilizará Union-Find.\n",
        "###Inicialización\n",
        "\n",
        "En la iteración $i=1$, se tendrá un árbol vacío y se revisará el arco con menor costo ($i$). Se llama a UF (Union-Find), para verificar si hay ciclos al agregar el arco.\n",
        "\n",
        "> Como se utiliza la primera iteración, no es posible generar ciclos con menos de 3 arcos, pero de igual manera es aplicable para un mayor número de iteración, esto asumiendo que Union-Find sea correcto.\n",
        "\n",
        "###Mantención\n",
        "\n",
        "Asumiendo que la inicialización es correcto, consideraremos que $i = x$ es el arco que se busca agregar\n",
        "\n",
        "    1 < x < V\n",
        "\n",
        "Tomando lo anterior, se revisa el arco $x$, si los nodos que se encuentran conectado al arco, son parte del mismo sub-conjunto, al agregar ese arco se creará un ciclo, por lo que este no se agregará al árbol. En caso que no se encuentren en el mismo sub-conjunto, si se agrega al árbol.\n",
        "\n",
        "La operación se realiza con UF, especificamente con el Find.\n",
        "\n",
        "> Find genera unos nombres para cada sub-conjunto de nodos, en base a los arcos con los que esten conectados. Los nodos estan previamente ordenados según su costo.\n",
        "\n",
        "El árbol jamás tendrá más de $V-1$ arcos, ya que en caso contrario, significa que hay un ciclo presente.\n",
        "\n",
        "Con lo anterior, al finalizar la iteración $i = x+1$ se seguirá cumpliendo la propiedad.\n",
        "\n",
        "###Conclusión\n",
        "\n",
        "Como la propiedad es correcta al inicio y final de cada iteración, al finalizar la n-ésima iteración, donde ϵ $= V-1$, se tendrá un árbol con $V$ nodos conectados si ciclos entre si."
      ],
      "metadata": {
        "id": "W62kWhOGFKv3"
      }
    },
    {
      "cell_type": "markdown",
      "source": [
        "import matplotlib.pyplot as plt\n",
        "import datetime\n",
        "from timeit import repeat\n",
        "\n",
        "import random\n",
        "\n",
        "def knapsack_instance_generator(N):\n",
        "  val = []\n",
        "  wt = []\n",
        "  prev_v = 0\n",
        "  prev_w = 0\n",
        "  for i in range(N):\n",
        "    v = random.randint(1, 100)\n",
        "    val.append(prev_v + v)\n",
        "    prev_v += v\n",
        "    \n",
        "    w = random.randint(1, 10)\n",
        "    wt.append(prev_w + w)\n",
        "    if (v >= 50):\n",
        "        prev_w += w\n",
        "\n",
        "  W = int(sum(wt) / 2)\n",
        "  return W, val, wt\n",
        "\n",
        "x=[]; y=[]; x2=[]; y2=[]\n",
        "\n",
        "for n in range(5,50):\n",
        "  W, val, wt = knapsack_instance_generator(n)\n",
        "  cont = [0]\n",
        "\n",
        "  t = repeat(setup=\"from __main__ import greedy\", stmt=f\"greedy({W},{wt},{val},{cont}, {False})\", repeat=1, number=10)\n",
        "  t2 = repeat(setup=\"from __main__ import knapSack\", stmt=f\"knapSack({W},{wt},{val},{len(val)},{cont},{False})\", repeat=1, number=10)\n",
        "\n",
        "  x.append(n)\n",
        "  y.append(t)\n",
        "\n",
        "  x2.append(n)\n",
        "  y2.append(t2)\n",
        "\n",
        "\n",
        "plt.plot(x,y)\n",
        "plt.plot(x2,y2)\n",
        "plt.legend([\"Solucion Greedy\", \"Solucion dinámica\"])\n",
        "\n",
        "plt.xlabel('n')\n",
        "plt.ylabel('time in ms')\n",
        "plt.show()"
      ],
      "metadata": {
        "id": "THGJDTOLe1G4"
      }
    },
    {
      "cell_type": "markdown",
      "source": [
        "#5-Experimentos"
      ],
      "metadata": {
        "id": "3-9yGboKmgrQ"
      }
    },
    {
      "cell_type": "code",
      "source": [
        "import matplotlib.pyplot as plt\n",
        "import datetime\n",
        "from timeit import repeat\n",
        "\n",
        "import random\n",
        "\n",
        "def graph_instance_creator(V):\n",
        "  graph = []\n",
        "  for i in range(V):\n",
        "    for j in range(i+1, V):\n",
        "      graph.append([i, j, random.randint(1, 500)])\n",
        "  \n",
        "  return graph\n",
        "\n",
        "\n",
        "x=[]; y=[]; \n",
        "\n",
        "\n",
        "\n",
        "for n in range(5,50):\n",
        "  cont = [0]\n",
        "  g = Graph(n)\n",
        "  g.graph = graph_instance_creator(n)\n",
        "\n",
        "  t = repeat(setup = \"from __main__ import Graph\", stmt = lambda: g.KruskalMST(False, False,False), number = 10, repeat = 1)\n",
        "\n",
        "  x.append(n)\n",
        "  y.append(t)\n",
        "\n",
        "\n",
        "plt.plot(x,y)\n",
        "plt.legend([\"Tiempo de ejecucion\"])\n",
        "\n",
        "plt.xlabel('n')\n",
        "plt.ylabel('time in ms')\n",
        "plt.show()"
      ],
      "metadata": {
        "colab": {
          "base_uri": "https://localhost:8080/",
          "height": 279
        },
        "id": "vtIJsJnambUS",
        "outputId": "fee9d2ef-6b04-4852-f7e2-80134e4484d2"
      },
      "execution_count": 88,
      "outputs": [
        {
          "output_type": "display_data",
          "data": {
            "text/plain": [
              "<Figure size 432x288 with 1 Axes>"
            ],
            "image/png": "[encoded data removed]"
          },
          "metadata": {
            "needs_background": "light"
          }
        }
      ]
    },
    {
      "cell_type": "markdown",
      "source": [
        "##Analisis de resultados:\n",
        "\n",
        "Podemos apreciar en la gráfica que el tiempo de ejecución crece de manera lineal junto con el aumento de nodos en el grafo, lo que corrobora el tiempo de ejecución anteriormente presentado."
      ],
      "metadata": {
        "id": "4oweoIZmzmNe"
      }
    },
    {
      "cell_type": "code",
      "source": [
        "from timeit import repeat\n",
        "\n",
        "class Graph2:\n",
        "\n",
        "  def __init__(self, vertices):\n",
        "          self.V = vertices\n",
        "          self.graph = [[0 for column in range(vertices)]\n",
        "                        for row in range(vertices)]\n",
        "                        \n",
        "  def minKey(self, key, mstSet):\n",
        "      min_index = 0\n",
        "      # Initialize min value\n",
        "      min = sys.maxsize\n",
        "\n",
        "      for v in range(self.V):\n",
        "          if key[v] < min and mstSet[v] == False:\n",
        "              min = key[v]\n",
        "              min_index = v\n",
        "\n",
        "      return min_index\n",
        "\n",
        "\n",
        "  def primMST(self):\n",
        "\n",
        "      key = [sys.maxsize] * self.V\n",
        "      parent = [None] * self.V \n",
        "      key[0] = 0\n",
        "      mstSet = [False] * self.V\n",
        "\n",
        "      parent[0] = -1  \n",
        "\n",
        "      for cout in range(self.V):\n",
        "\n",
        "          u = self.minKey(key, mstSet)\n",
        "\n",
        "          mstSet[u] = True\n",
        "          for v in range(self.V):\n",
        "\n",
        "              if self.graph[u][v] > 0 and mstSet[v] == False and key[v] > self.graph[u][v]:\n",
        "                  key[v] = self.graph[u][v]\n",
        "                  parent[v] = u\n",
        "\n",
        "x = []; y1=[]; y2= []\n",
        "\n",
        "for n in range(2,100):\n",
        "    g = Graph(n)\n",
        "    g.graph = graph_instance_creator(n)\n",
        "\n",
        "    g2 = Graph2(n)\n",
        "    g2.graph = graph_instance_creator(n)\n",
        "\n",
        "    t1 = repeat(setup = \"from __main__ import Grafo\", stmt = lambda: g.KruskalMST(False, False, False), number = 10, repeat = 1)\n",
        "    t2 = repeat(setup = \"from __main__ import Grafo\", stmt = lambda: g2.primMST(), number = 10, repeat = 1)\n",
        "    x.append(n)\n",
        "    y1.append(t1)\n",
        "    y2.append(t2)\n",
        "\n",
        "plt.plot(x, y1)\n",
        "plt.plot(x, y2)\n",
        "plt.legend([\"kruskal\", \"prim\"])"
      ],
      "metadata": {
        "colab": {
          "base_uri": "https://localhost:8080/",
          "height": 282
        },
        "id": "FeLsY2Qa08Vk",
        "outputId": "f4d44093-f67f-4070-e140-e8fe2ed1eab1"
      },
      "execution_count": 108,
      "outputs": [
        {
          "output_type": "execute_result",
          "data": {
            "text/plain": [
              "<matplotlib.legend.Legend at 0x7fa73be7a710>"
            ]
          },
          "metadata": {},
          "execution_count": 108
        },
        {
          "output_type": "display_data",
          "data": {
            "text/plain": [
              "<Figure size 432x288 with 1 Axes>"
            ],
            "image/png": "[encoded data removed]"
          },
          "metadata": {
            "needs_background": "light"
          }
        }
      ]
    },
    {
      "cell_type": "markdown",
      "source": [
        "##Análisis de resultados:\n",
        "\n",
        "Podemos observar que el algoritmo de primm tiene un tiempo de ejecución mayor al del algoritmo de kruskal."
      ],
      "metadata": {
        "id": "FXQYdTL29qOF"
      }
    }
  ]
}