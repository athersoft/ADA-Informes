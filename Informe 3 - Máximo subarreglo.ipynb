{
  "nbformat": 4,
  "nbformat_minor": 0,
  "metadata": {
    "colab": {
      "name": "Untitled2.ipynb",
      "provenance": [],
      "collapsed_sections": [],
      "authorship_tag": "ABX9TyOknNXQmldQrukzxmsfkHN9",
      "include_colab_link": true
    },
    "kernelspec": {
      "name": "python3",
      "display_name": "Python 3"
    },
    "language_info": {
      "name": "python"
    }
  },
  "cells": [
    {
      "cell_type": "markdown",
      "metadata": {
        "id": "view-in-github",
        "colab_type": "text"
      },
      "source": [
        "<a href=\"https://colab.research.google.com/github/athersoft/ADA-Informes/blob/main/Informe%203%20-%20M%C3%A1ximo%20subarreglo.ipynb\" target=\"_parent\"><img src=\"https://colab.research.google.com/assets/colab-badge.svg\" alt=\"Open In Colab\"/></a>"
      ]
    },
    {
      "cell_type": "markdown",
      "source": [
        "#1-Descrición del problema\n",
        "\n",
        "Entrada: Un arreglo de una dimensión\n",
        "\n",
        "Salida: El subarreglo contenido en este arreglo cuya suma de elementos seguidos sea mayor\n",
        "\n",
        "![max-subarray-746x560.jfif](data:image/jpeg;base64,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)\n",
        "\n",
        "El problema del subarreglo máximo consiste en buscar la secuencia de números positivo seguidos con mayor suma de sus elementos dentro de un arreglo unidimensional.\n",
        "\n",
        "Solucionar este problema se puede utilizar para situaciones prácticas como identificar los mejores momentos de compra-venta en un gráfico así como para el análisis de las secuencias de ADN."
      ],
      "metadata": {
        "id": "Fo5UmTaC26MF"
      }
    },
    {
      "cell_type": "markdown",
      "source": [
        "#2-Código"
      ],
      "metadata": {
        "id": "5_PI1JnJ4L_T"
      }
    },
    {
      "cell_type": "code",
      "source": [
        "import sys\n",
        "\n",
        "def MaxSubArrayMid(array):\n",
        "  mid = len(array)//2 #Calcula el índice medio del arreglo\n",
        "\n",
        "  totalIzq = 0\n",
        "  totalDer = 0\n",
        "\n",
        "  indiceIzq = mid\n",
        "  indiceDer = mid\n",
        "\n",
        "  #Bucle que suma el subarreglo de la mitad hacia la izquierda\n",
        "  for i in range(mid, 0, -1):\n",
        "    if array[i] > 0:\n",
        "      totalIzq+= array[i]\n",
        "      indiceIzq = i\n",
        "    else:\n",
        "      break\n",
        "\n",
        "  #Bucle que suma el subarreglo de la mitad hacia la derecha\n",
        "  for i in range(mid+1, len(array)):\n",
        "    if array[i] > 0:\n",
        "      totalDer+= array[i]\n",
        "      indiceDer = i\n",
        "    else:\n",
        "      break\n",
        "\n",
        "  #Retorna la suma de ambos totales y los índices\n",
        "  return totalDer+totalIzq,indiceIzq,indiceDer\n",
        "\n",
        "\n",
        "def MaxSubArray(array, verbose = False):\n",
        "  if len(array) > 1:\n",
        "\n",
        "    #Divide el arreglo en dos mitades\n",
        "    mid = len(array)//2\n",
        "    izq = array[:mid]   \n",
        "    der = array[mid:]\n",
        "\n",
        "    total = 0\n",
        "    izqMax = 0\n",
        "    derMax = 0\n",
        "    \n",
        "    #Arreglos que guardan los índices de los máximos subarreglos:\n",
        "    #Posicion 0: índices del arreglo izquierdo\n",
        "    #Posicion 1: índices del arreglo derecho\n",
        "    #Posicion 2: índices del subarreglo que contiene el valor del medio\n",
        "    indiceIzq = [0,0,0]\n",
        "    indiceDer = [0,0,0]\n",
        "    indiceAux = 0\n",
        "\n",
        "\n",
        "    #Llamada recursiva para el arreglo izquierdo\n",
        "    midMax, indiceIzq[2], indiceDer[2] = MaxSubArrayMid(array)\n",
        "\n",
        "    #Búsqueda del máximo subarreglo del arreglo izquierdo\n",
        "    izqMax,indiceIzq[0], indiceDer[0] = MaxSubArray(izq)\n",
        "    for i in range(0, len(izq)):\n",
        "        if(izq[i] < 0):\n",
        "          total = 0\n",
        "          indiceAux = i+1\n",
        "        else:\n",
        "          total += izq[i]\n",
        "        if total > izqMax:\n",
        "            indiceIzq[0] = indiceAux\n",
        "            indiceDer[0] = i\n",
        "            izqMax = total\n",
        "\n",
        "    indiceAux = 0\n",
        "    total = 0\n",
        "    #Llamada recursiva para el arreglo derecho\n",
        "    derMax,indiceIzq[1], indiceDer[1] = MaxSubArray(der)\n",
        "\n",
        "    #Búsqueda del máximo subarreglo del arreglo derecho\n",
        "    for i in range(0, len(der)):\n",
        "        if(der[i] < 0):\n",
        "          total = 0\n",
        "          indiceAux = i+1\n",
        "        else:\n",
        "          total += der[i]\n",
        "        if total > derMax:\n",
        "          indiceIzq[1] = indiceAux+len(izq)\n",
        "          indiceDer[1] = i+len(izq)\n",
        "          derMax = total\n",
        "    \n",
        "    if(verbose):\n",
        "      print(\"\\nArray recibido:\", array)\n",
        "      print(\"Array izquierda:\", izq)\n",
        "      print(\"Array derecha\", der)\n",
        "      print(\"Maximo subarreglo a la izquierda:\", izqMax, \" en la posicion\", indiceIzq[0],\",\",indiceDer[0])\n",
        "      print(\"Maximo subarreglo a la derecha\", derMax, \" en la posicion\", indiceIzq[1],\",\",indiceDer[1])\n",
        "      print(\"Maximo subarreglo que contiene el valor de la mitad\", midMax, \" en la posicion\", indiceIzq[2],\",\",indiceDer[2])\n",
        "\n",
        "    #Determina el caso del índice a retornar\n",
        "    caso = 0\n",
        "    if derMax > derMax and derMax > midMax:\n",
        "      caso = 1\n",
        "    if midMax > derMax and midMax > izqMax:\n",
        "      caso = 2\n",
        "\n",
        "    #Retorna la mayor suma de los subarreglos y los índices donde se encuentra el mayor\n",
        "    return max(izqMax, derMax, midMax), indiceIzq[caso], indiceDer[caso]\n",
        "\n",
        "  else:\n",
        "    return array[0],0,0\n",
        "if __name__ == '__main__':\n",
        " \n",
        "    array = [2,-5,4,6,2,-9,7,2]\n",
        "    print(\"Areglo a evaluar: \", array)\n",
        "    sum,indiceIzq,indiceDer = MaxSubArray(array)\n",
        "    print('La mayor suma es', sum)\n",
        "    print(\"En el subarreglo que va desde el indice\", indiceIzq, \"hasta el indice\", indiceDer)\n"
      ],
      "metadata": {
        "colab": {
          "base_uri": "https://localhost:8080/"
        },
        "id": "duaBxaeJbBgb",
        "outputId": "fdcfd945-ceac-48e8-c3b1-8fb556e2e170"
      },
      "execution_count": 96,
      "outputs": [
        {
          "output_type": "stream",
          "name": "stdout",
          "text": [
            "Areglo a evaluar:  [2, -5, 4, 6, 2, -9, 7, 2]\n",
            "La mayor suma es 12\n",
            "En el subarreglo que va desde el indice 2 hasta el indice 4\n"
          ]
        }
      ]
    },
    {
      "cell_type": "markdown",
      "source": [
        "#2.1-Descripción del código\n",
        "\n",
        "-El código recibe un arreglo unidimensional \n",
        "\n",
        "-Divide en dos mitades el arreglo\n",
        "\n",
        "-Busca el máximo subarreglo en cada mitad de manera recursiva\n",
        "\n",
        "-Luego busca la máxima suma que contenga el área en la que se dividió el arreglo\n",
        "\n",
        "-La mayor suma entre las 3 es la que retorna el algoritmo"
      ],
      "metadata": {
        "id": "Z4mdOfXTZX3g"
      }
    },
    {
      "cell_type": "markdown",
      "source": [
        "#2.2-Ejecución paso a paso\n",
        "\n",
        "Utilizando la opción verbose = True, podemos observar la ejecución paso a paso del algoritmo.\n",
        "\n",
        "Areglo a evaluar:  [2, -5, 4, 6, 2, -9, 7, 2]\n",
        "\n",
        "Array recibido: [2, -5]\n",
        "\n",
        "Array izquierda: [2]\n",
        "\n",
        "Array derecha [-5]\n",
        "\n",
        "Maximo subarreglo a la izquierda: 2  en la posicion 0 , 0\n",
        "\n",
        "Maximo subarreglo a la derecha 0  en la posicion 2 , 1\n",
        "\n",
        "Maximo subarreglo que contiene el valor de la mitad 0  en la posicion 1 , 1\n",
        "\n",
        "\n",
        "Array recibido: [4, 6]\n",
        "\n",
        "Array izquierda: [4]\n",
        "\n",
        "Array derecha [6]\n",
        "\n",
        "Maximo subarreglo a la izquierda: 4  en la posicion 0 , 0\n",
        "\n",
        "Maximo subarreglo a la derecha 6  en la posicion 0 , 0\n",
        "\n",
        "Maximo subarreglo que contiene el valor de la mitad 6  en la posicion 1 , 1\n",
        "\n",
        "\n",
        "Array recibido: [2, -5, 4, 6]\n",
        "\n",
        "Array izquierda: [2, -5]\n",
        "\n",
        "Array derecha [4, 6]\n",
        "\n",
        "Maximo subarreglo a la izquierda: 2  en la posicion 0 , 0\n",
        "\n",
        "Maximo subarreglo a la derecha 10  en la posicion 2 , 3\n",
        "\n",
        "Maximo subarreglo que contiene el valor de la mitad 10  en la posicion 2 , 3\n",
        "\n",
        "\n",
        "Array recibido: [2, -9]\n",
        "\n",
        "Array izquierda: [2]\n",
        "\n",
        "Array derecha [-9]\n",
        "\n",
        "Maximo subarreglo a la izquierda: 2  en la posicion 0 , 0\n",
        "\n",
        "Maximo subarreglo a la derecha 0  en la posicion 2 , 1\n",
        "\n",
        "Maximo subarreglo que contiene el valor de la mitad 0  en la posicion 1 , 1\n",
        "\n",
        "\n",
        "Array recibido: [7, 2]\n",
        "\n",
        "Array izquierda: [7]\n",
        "\n",
        "Array derecha [2]\n",
        "\n",
        "Maximo subarreglo a la izquierda: 7  en la posicion 0 , 0\n",
        "\n",
        "Maximo subarreglo a la derecha 2  en la posicion 0 , 0\n",
        "\n",
        "Maximo subarreglo que contiene el valor de la mitad 2  en la posicion 1 , 1\n",
        "\n",
        "\n",
        "Array recibido: [2, -9, 7, 2]\n",
        "\n",
        "Array izquierda: [2, -9]\n",
        "\n",
        "Array derecha [7, 2]\n",
        "\n",
        "Maximo subarreglo a la izquierda: 2  en la posicion 0 , 0\n",
        "\n",
        "Maximo subarreglo a la derecha 9  en la posicion 2 , 3\n",
        "\n",
        "Maximo subarreglo que contiene el valor de la mitad 9  en la posicion 2 , 3\n",
        "\n",
        "\n",
        "Array recibido: [2, -5, 4, 6, 2, -9, 7, 2]\n",
        "\n",
        "Array izquierda: [2, -5, 4, 6]\n",
        "\n",
        "Array derecha [2, -9, 7, 2]\n",
        "\n",
        "Maximo subarreglo a la izquierda: 10  en la posicion 0 , 0\n",
        "\n",
        "Maximo subarreglo a la derecha 9  en la posicion 0 , 0\n",
        "\n",
        "Maximo subarreglo que contiene el valor de la mitad 12  en la posicion 2 , 4\n",
        "\n",
        "\n",
        "La mayor suma es 12\n",
        "\n",
        "En el subarreglo que va desde el indice 2 hasta el indice 4\n"
      ],
      "metadata": {
        "id": "lB14F2wWW4mT"
      }
    },
    {
      "cell_type": "markdown",
      "source": [
        "#3.1-Correctitud función MaxSubArrayMid\n",
        "\n",
        "**Teorema:**\n",
        "\n",
        "  La función MaxSubArrayMid retorna la suma de los valores del subarreglo que contiene el valor del medio.\n",
        "\n",
        "\n",
        "**Prueba del teorema:**\n",
        "\n",
        "  La función MaxSubArrayMid recibe como parámetro un arreglo, para comprobar que realiza corretamente el proceso de suma de los valores del subarreglo, observaremos dos casos:\n",
        "\n",
        "  Si el valor de la mitad de arreglo es negativo: En esa situación se puede afirmar que no hay un subarreglo que contenga el valor ubicado en la mitad del arreglo original, por lo tanto se retorna un 0.\n",
        "\n",
        "  Si el valor de la mitad de arreglo es positivo: En este caso, se procede con la suma de los valores desde n/2 hasta 0 o hasta toparse con un número negativo, luego, con los valores de n/2+1 hasta el largo del arreglo, ambos valores forman parte de un subarreglo válido que contiene el valor medio, por lo tanto la suma de ambos, sigue siendo un subarreglo válido y representa la suma del máximo subarreglo que contiene el valor del medio."
      ],
      "metadata": {
        "id": "NrIKxsdNmhgB"
      }
    },
    {
      "cell_type": "markdown",
      "source": [
        "#3.2-Correctitud función MaxSubArray\n",
        "\n",
        "**Teorema:**\n",
        "\n",
        "La función MaxSubArray en base a un arreglo que recibe como parámetro, devuelve el subarreglo que contenga la mayor suma de sus elementos continuos.\n",
        "\n",
        "**Prueba del teorema:**\n",
        "\n",
        "Caso base: Si el arreglo recibido tiene un solo elemento, devuelve este ya que es el mayor.\n",
        "\n",
        "Caso general: Se asume que la función es correcta para arreglos de cualquier tamaño, la función divide en dos el arreglo original, buscando el máximo subarreglo de cada mitad de forma recursiva, para luego comparar ambos resultados con el que nos entrega la función MaxSubArrayMid, la cual ya probamos su correctitud."
      ],
      "metadata": {
        "id": "9fW9ahm2YGk5"
      }
    },
    {
      "cell_type": "markdown",
      "source": [
        "#4-Tiempo de ejecución\n",
        "\n",
        "Para el arreglo de largo n realizaremos dos llamadas recursivas con entrada de largo n/2, formando de esta manera ramificaciones cuyo tiempo de ejecución es O(log n), luego la función MaxSubArrayMid busca de manera lineal, por lo que la complejidad queda como O(n * log n)\n",
        "\n",
        "**Mejor caso**: Solo hay un elemento en el arreglo, se retorna ese elemento\n",
        "\n",
        "**Peor caso**: Si todos los números en el arreglo son positivos, la función MaxSubArrayMid realizará el mayor número de operaciones posible, además de que se realizarán recursiones innecesarias debido a que el máximo subarreglo en este caso es el arreglo completo."
      ],
      "metadata": {
        "id": "O2QA1JvFoYDz"
      }
    },
    {
      "cell_type": "markdown",
      "source": [
        "#5-Experimentos"
      ],
      "metadata": {
        "id": "VeVBhCf5ba_G"
      }
    },
    {
      "cell_type": "markdown",
      "source": [
        " **Tiempo de ejecución:**\n",
        " \n",
        "Compararemos el tiempo de ejecución de la implementación \"Divide y vencerás\" con el algoritmo de kadane."
      ],
      "metadata": {
        "id": "T3iLgnRYfhqq"
      }
    },
    {
      "cell_type": "code",
      "source": [
        "import matplotlib.pyplot as plt\n",
        "import datetime\n",
        "import random\n",
        "from timeit import repeat\n",
        "\n",
        "import sys\n",
        " \n",
        " \n",
        "# Algoritmo de Kadane, créditos a https://www.techiedelight.com/\n",
        "def kadane(A):\n",
        "\n",
        "    max_so_far = -sys.maxsize\n",
        "    max_ending_here = 0\n",
        " \n",
        "    for i in range(len(A)):\n",
        "        max_ending_here = max_ending_here + A[i]\n",
        " \n",
        "        max_ending_here = max(max_ending_here, A[i])\n",
        " \n",
        "        max_so_far = max(max_so_far, max_ending_here)\n",
        " \n",
        "    return max_so_far\n",
        "\n",
        "\n",
        "x=[]; y=[]; y2=[]\n",
        "\n",
        "for n in range(5,500):\n",
        "\n",
        "  a = random.sample(range(1, 1000), n)\n",
        "\n",
        "  t = repeat(setup=\"from __main__ import MaxSubArray\", stmt=f\"MaxSubArray({a})\", repeat=1, number=10)\n",
        "  q = repeat(setup=\"from __main__ import kadane\", stmt=f\"kadane({a})\", repeat=1, number=10)\n",
        "\n",
        "  x.append(n)\n",
        "  y.append(t)\n",
        "  y2.append(q)\n",
        "\n",
        "\n",
        "plt.plot(x,y)\n",
        "plt.plot(x,y2)\n",
        "plt.legend([\"MaxSubArray\", \"Kadane\"])\n",
        "\n",
        "plt.xlabel('n')\n",
        "plt.ylabel('time in ms')\n",
        "plt.show()"
      ],
      "metadata": {
        "colab": {
          "base_uri": "https://localhost:8080/",
          "height": 280
        },
        "id": "A2avUWDHdDLb",
        "outputId": "607ff04c-1b7a-48b5-998d-27d8ead6d314"
      },
      "execution_count": 95,
      "outputs": [
        {
          "output_type": "display_data",
          "data": {
            "text/plain": [
              "<Figure size 432x288 with 1 Axes>"
            ],
            "image/png": "[encoded data removed]"
          },
          "metadata": {
            "needs_background": "light"
          }
        }
      ]
    },
    {
      "cell_type": "markdown",
      "source": [
        "**Análisis de resultado:**\n",
        "\n",
        "La gráfica nos deja ver que la complejidad O(n) del algoritmo de kadane resuelve el problema de manera mucho más eficiente que el algoritmo divide y vencerás."
      ],
      "metadata": {
        "id": "OMRJqbDngT2z"
      }
    }
  ]
}