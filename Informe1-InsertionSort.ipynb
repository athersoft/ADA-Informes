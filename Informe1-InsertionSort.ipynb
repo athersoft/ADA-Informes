{
  "nbformat": 4,
  "nbformat_minor": 0,
  "metadata": {
    "colab": {
      "name": "Untitled0.ipynb",
      "provenance": [],
      "collapsed_sections": [],
      "authorship_tag": "ABX9TyNw7UJB6O6YOfwCx+tYk+yj",
      "include_colab_link": true
    },
    "kernelspec": {
      "name": "python3",
      "display_name": "Python 3"
    },
    "language_info": {
      "name": "python"
    }
  },
  "cells": [
    {
      "cell_type": "markdown",
      "metadata": {
        "id": "view-in-github",
        "colab_type": "text"
      },
      "source": [
        "<a href=\"https://colab.research.google.com/github/athersoft/ADA-Informes/blob/main/Informe1-InsertionSort.ipynb\" target=\"_parent\"><img src=\"https://colab.research.google.com/assets/colab-badge.svg\" alt=\"Open In Colab\"/></a>"
      ]
    },
    {
      "cell_type": "code",
      "execution_count": null,
      "metadata": {
        "id": "mLxy8TEFsDJq"
      },
      "outputs": [],
      "source": [
        ""
      ]
    },
    {
      "cell_type": "markdown",
      "source": [
        "# 1-Descripción del problema:\n",
        "\n",
        "Entrada: Un conjunto de datos desordenados.\n",
        "\n",
        "Salida: Un conjunto de datos ordenados de menor a mayor.\n",
        "\n",
        "![1_XxKomj8OQEDhEVHoMG7HOA.png](data:image/png;base64,iVBORw0KGgoAAAANSUhEUgAABMUAAAHSCAIAAABjJ+uyAAA9a0lEQVR42uzdB5RU5d0/8N/qIkGqYIgiFmxRsAQFQaMCajwSFRMQo8aK4IvlRcVEsUQ2saCJGjFEkFhiicau+BoTG1iCCipBgkRNAggqQUEQkbaw/3P/6zGWKVtm2JnZz+fM8cjOndm7v7n3med7y/NsEAAAAFB78iQAAADyJAAAAPIkAAAAhaz8i/+oqKjo1auXogAAAPB1Z5xxxhtvvPH5Pzf84nMTJ06cM2eOGgEAAPAVvXv3/vDDDydNmvT5T8q/ssSzzz5bUVGhUgAAAHxRVVXVV37i/kkAAADqQp4EAABAngQAAECeBAAAQJ4EAABAngQAAAB5EgAAAHkSAAAAeRIAAAB5EgAAAHkSAAAA5EkAAADkSQAAAORJAAAA5EkAAADkSQAAAJAnAQAAkCcBAACQJwEAAJAnAQAAkCcBAABAngQAAECeBAAAQJ4EAABAngQAAECeBAAAAHkSAAAAeRIAAAB5EgAAAHkSAAAAeRIAAADkSQAAAORJAAAA5EkAAADkSQAAAORJAAAAkCcBAACQJwEAAJAnAQAAkCcBAACQJwEAAECeBAAAQJ4EAABAngQAAECeBAAAQJ4EAAAAeRIAAAB5EgAAAHkSAAAAeRIAAAB5EgAAAORJAAAA5EkAAADkSQAAAORJAAAA5EkAAACQJwEAAJAnAQAAkCcBAACQJwEAAJAnAQAAQJ4EAABAngQAAECeBAAAQJ4EAABAngQAAAB5EorGI49EVVXax5w50aVLppcffHAsWZL6tVOmRPv2uVzVs86KlSvTrurKlckC9VFeHoccEmPGxMsvx4cfxrJlsW7df99/zZpYujTmz4+JE+Oqq2LfffP4t+T2kbkyr72Ws1+0Zk189FHyhqNGxdZb164gOVyNOj9ee63WK5byJfXRokX86Edx550xY0YsXhzLl3/p1y1fnmyZr7wSt9wSAwYkW2wOldK+XPgtQG21bx+DB8fDD8esWcnHtGLFf1ds3bpkVRcsiMmTk5U/8MAc/+rcNlbLlyc1fPDBWm/A67PNLLQtE8igqqqqoqJCHaA08+S6dUnvJ4dd3vz1Qfv1iyefTPpktepbLF0azzwTxx9fl7+xJPPkV7Ll5MnJ5iFP1jDJDBoUr74aq1fXYoU//TSefTbZevOdJ4toXy6WFqDmxxdGjIi33kp2qFqt2MMPxz77FGKe/OLjgw/i2muTv1GeBGoTGJ2fhEajrCwOPTSuuqqgV3LQoPjXv5K+10EH1bRb87lWraJPn7j99vjoo+Qddt/dZ/6lgLT33vF//5dUplMn9cgUGCoqYt68uPnm2GOPaNKkFq9t1iz23z+p8Lx5MXRoHlNNUezLJdYCtG8fY8fG/PkxalTssEPtPtxWreKII+L552PGjBg4sHCLv+mmcc458eabyacAUGPyJDSyUHHiidG/fyGuW6dOMXFi/O53se22SXe5npHgiCNi6tTkDXN1TqA0NGmSVOaFF2LAAMVIHWbefDNGjozNNqtX2OvYMW64IV5/PQ4/vDHuyyXWApSXR0VFzJoVQ4dG69b16HBtELvsEn/8Y/z1rwV9tKtDh7jxxrjvvlrneUCeBBqFdu3i6qtjjz0Ka60OPTQJOb17J12uHGan3r1j0iRn5FL0F2+7Lc4+WyW+FGYefzwJMx065OYNy8pi552TTvnYsfk6UVmY+3KJtQC77x5TpsQll0Tbtjnqdm2QRNxnn42f/axwP47y8hgwIJ56Kse36QLyJFA6Xedx4wqoo9C/fxJvctWP/3qf8ogj4pVXoqIij9cfFp3mzeOKK2L4cJVIDBgQzz0XhxySyzBTrWnT+J//iWeeydcRjULbl0usBTjnnOSz69q1vudLv6516ySjFvI5wLKy6NEj/u//REpAngRS6dYtfv3rgliTQw+NG2+Mdu3y+1vato2ePaOy0if/X82axYUXltQFk3Vzxhlx883RsWMe++X77RdPPplsgaW9L5dYC/DLX8aoUTk7Lfl1n58DLOSrJ7p1i/HjHYkD5EkgVR/3hz9s+NNT7dvHyJGx6aZ5/0WLF8cNN/jYv6pdu7jookZ9/mH48PjVr+p1U1wNbbdd3HVXXq5NLZB9ucRagOuvj3POiaZN894O9+gR99xTuPtgWVkccogxVAF5EkilEE5PnX9+dO2a999SVRV//nNMmOAzT2H33aPRThN19tnxi18kO8L60alT3H9/XiJl8Z5qLswWYPTo/A7P+xXduxf0ZaVNm8awYSVymy6QH65hgEasejyPOXNyPwt8DbvX/fpl77RVVsbcuTFxYjz+eHz0UUydGhtvHLvuGttuG/vuG926xQ47ZJnU4f3347e/rdeqrlqVdHxHj274j2zatBp17LbeOvbbL370ozjwwCx5acMNY8CAuO++pMJfVIfu42uvZcoGNVzz9aZ//7j44mjevKaBZPHi+NvfksfkyfHJJ58VuXv3ZAvcaaeahtJOneKGG+LQQ2PRopLal0upBRg+PIYMqek8MevWxYIFySrNnJlsGGvWJD/cZZfYffcardjnunWLceNyc0Sgho1VeXn07JlsikcdlXwQmW8Q3XLLOPfc+PGPv5q6a9sknnVWXHVV2rO+hdPMAvXx9ekpgfXtkUcyTd88Z0506ZLp5RnmQE/3mDChjkfi6zkH+nnnJR2IDCu2bl288Ub2GRdatIhTT42XXkq9MuvWxdixef9bcii38/X37Jn0dDNvADUs0Xpe87z+lvbtY8aMGu0dq1cnMSbznBPl5TF0aPzrX0kls77hmjVx/fU1Wski2pfrpqBagGr77BPvvlujUn/6adx2W+y8c5YVq6hI0mwN37CGFy3n9sMqL49rrsn0htWP+fNzcDyocJpZIKeB0fWu0Oj17RvXXtsAv/fgg2OjjTIt8Mor0bt3PPpolvf55JMYPz4JTlttFePGxeLFX3r2nXdizJjG++G+9FIcf3z84x+Zlikri4MOalxTqowbl+W4TPU5yVmzYsCAZAeZPDnTkpWVyRt++9vxi198dfNL2X0/6aQ45piS2pdLowVo1y6pXtZhZtetS7aHvfeOE09MtpDMK1ZRETvsEDfeGCtWZHnbZs3i3HMbYL7cysrk9/7mN7F6dabFNtssBg70bQmkJE9Co1deHoMHr+/xPHbcMbbdNtMCH34YF1wQCxfW4j0XLozTToutt/5v762yMu68M2bObNSf72uvxUUXZbnAcostkkjZSAwenCSZzBf4VVbGAw/EXntlDzNffElFRRx6aLzxRpYlW7aMCy/My/1yDbIvl0wLcM45seeeWZZZtSquuy569Yrp02u6Vp98EkOHxvHHx3vvZVmyQ4cGm9boggvi8cejqirtAhtumPzVBnoF5EkgtfU/nseWW0abNpkWePPNePrpurxzde9t771j2rT4xz9qem1haXvwwXjooUydxWbNonv3RlGK9u3jrLOy3DZZWRljx8bAgZ/dJ1krL70Uhx0Wr7ySZbGddophw0pkXy6NFmCffeLkk7PkpRUrktqee25dZh564IEYMCBmz86+Gied1AAfR2Vl/PKX8f77mZbZemuj8gDyJJBeu3YxYsT6G2Nwq62yjMVfzwFLpk+P/fePAw+s3fmNEvbQQ7F0aaYFOnduFHUYMiR23DHTAlVV8dhj9TrFN3t2/M//ZEkO5eVx3HHZr7ktin25NFqAk0+OzTfPkrhuuqlelxO/9FL85CdZ/q7mzZONJ9+zcaY0eXKW4yBt2uRriwXkSaBErM+pq1u1ig03zO+v+OQTYfK/Xn45y+V27dvH1luXeBHatYujjspyz960aXHqqXU5AfVFr70WP/1pfPRRpmU6dkwiZQnsyyXQAuyxR/Ttm+US6Mcfz8GFxA8+GKNGxapVmZbp0qXBTi+//PJnQ9Sm1LRplkuUAXkSaOzKyuLQQwtlPI/tt2+Yg/SlatGiLPFmo42iRYsSL8Ipp8ROO2VaYNmyuPrq3ByGeOCB5JH5hrTvfz9fG3lB7cuF3wIMGZJlGJ733osrr6zvUYZqo0fHc89lWqBZsxgwoGFq/v77mfLkhhuuv8laAXkSKFbl5TFoUAwe3PBrst12DXMfUWlHykYu64CiEyfG3Xfn7Nddd128806mBXbYIY9nogpnXy7wFqBdu9h//0wnJ9eujfvvzzLGb81VVsaYMVnGAd5zzzjwwAao+bvvZsqTAPIkUCPNm8eFF+Z93IVZs2LlykwLNG0aP/tZnHOODySX/ebGbL/9YrfdMi2weHHcfHMuf+PMmfHII0kaSadZszjssKLfl4u9BejXL7bZJtMC8+fH+PG5/I0TJsQLL2TZVb///Qb4ULbYIpo00VIC8iSQ0TPPZJ8JrVOnGDcuv+N5vP9+luFhIqJ167j66vjrXxtgTraSDJObbJJpgdWr6zKcaXHlycwDis6alXT0c+sPf4j//CfTAjvvXPfbVgtkXy72FmDvvWPjjTMt8MILuZ9z6A9/iGXL0j5bVhY9ejTAh7L55pny5Nq12bc3QJ4ESt+0aXHTTdlvBMr3eB4zZsS8eTVoojZIupLPP58sPGaM0err7jvfyRIqli6NuXNLuQJ77pmpr7xmTfzpT7n/pVOmZJnyfrPN6p4cCmRfLvYWoGvXTM8uW5b7owwR8fTTWf78Tp1ir73W94ey225Z9pHME4oAjZWpaaHxGT48ttoq+vXLdMtQWVkcckicdVZcc02+VuOJJ5KedE26uRtsEB07xhlnxOmnJ7Fn2rS4666kk7fehm/dYIM44IDYfvt6vcmcOXksZlb9+mU5P/nmmyX9XVce222XaYElS5LQkg8vvhi9e6cdy3TjjWPXXePee4t7Xy7eFmDXXbMcZ1mwIF5+Ofd/+6JFyV+RYZKe6sk5pkxZfx9Hly7Rs2eWaD1jhu9PQJ4E/v+AEL/4Rey2W3TqlGmxpk3jggti9ux48MG8rMYdd8Sxx8a3v12Ll5SVJd2sPn2Sx9ix8Z//xCuvxCOPxH335fdazSZNki57PU2b1mAd+i5d4ogjMk3PsGpVTJ1aytv8zjtnidMffBBvvJGXX/3SS7F8ebRqlfrZDTes18yfBbIvF28LsNVWWa6CfuedfJ23f/XVOPLItJNwNmuWZSzinDv11CS0ZzBvXrz4ou9P4Otc7wqN0muvZZ9Zu/qmu6uvztdVprNnx/jxdb8hp7w8ttgiiUm33BKLF8frr8fllxf6HO4Norw8qcxWW2Va5sMP83V2rkBsvnm0bp1pgfffz9f4t3PmZJmp5VvfKvp9uXhbgO23T5voqv373/n682fOzDQiUVlZ8tetN/37x49/nOmQU1VVTJmSmxlTAHkSKBEPPhhXXNHA43lce22NbgDLqkmT2HXXuPDCePfdpHs9aFBBz+S+PrVoEfffH4cfnmWu9hdeSOpWwrLGhgUL8vWr33wzlizJtEDmwWCKZV8u0hagQ4dMU8isXZtlOKX6yDoiUcuW6+lTOOaYGDs2y/jPixYlLQmAPAnUpTPXtWtcfHG+1mHYsPj1r2PVqty8W3l5srY33xzz5iXr3JhTZbduMWpUEmaOOCI2yNjUL14cd91V4tVo0iRLos5fnqysjHXrMi3Qpk3suGMp7MvF2AJsuGGmDaOyMj78MF9/+Lp1UVWVJevmVfv2ceyx8Ze/xG23ZT/KMHlyPP2070xAngS+ZvjwmDgxexdt8OBkyTw577wYODD+9a8svata2WyzuPTSeOutOPzwkvq8unZNqlSTx9SpMWJE9i5pVVX8+c95GcGSmn4Pb5CbSf8KYV/WAuRQhqtPM2jaNK67rkZNxH/+E3/4Qxx8cPbNb+HC5D0B5EkghcrKJHXMnp1lsWbN4sILo3//fK3Go4/GTjvFJZfk+DRRp05x331xzTUuf02rYUedpfT2ZS1A6W1X99yT/VAFIE8CjVfNx/O44oosw0jWs9dy2WWx5ZZxyikxbVrOBn5o2jSGDSvE+fcKwaJFyUdf2ndOVvv441i7NtMCm22Wr1/drl2WWzeXL89ZiCqQfbmIWoAVKzJtGOXlsemm+fp7mzfPcmJw8eKG/1CqquKxxwruhDYgTwIFp4bjeey4Y/z61/kNZpWVccstsccesf32ye/6179y0K0sL4/jj49rr/U5fzXGXHZZYU0gkT/vvhtr1mRaIPOkEfXRoUO0aJFpgVWrcjm0bOHsy0XRAnz4Yab333DDtBO91N83v5llw1i+vOHD5JQpceqphnUF5EmgBmoynkdZWRx66HoKZnPnxvDhSZ9yiy3ivPPi5ZfrNcNkeXkcc0yy8nWzalWcfXby59fnUVBTNXz4Yfzv/zaie6KyjqXZqVOW8S3rLOvUl/Pmlfi+XMgtwD//mWUooC5d8vUH7r57NGuWaYG3327I+q9bF48/Hv36xcKFvh4BeRKomZ//PF59NXu3bD2P57FwYfzqV9GzZ7RsGQcdFLffHu+9l2XAzJQ23TRJUKxbF5MnJ5W89dZG9FfPmpVlEshvfjM6d87Lr9511ywzgsyZ01j25QJsAd55J8tsLlttFVtvnZe/q3PnTNe7rloV777bYDVfvDguvTSOOEKYBORJoDYWLYrTT6/ReB5nndUwZ9uefjpOPDG22CK23bYu18LtsUfst1+j/ohnz44hQ+K7343p0xvXH15ZmWwtGbRpk69tY++9Mw3UuXJlvPlmY9yXC6QFmDEjS2TabLPo0SP3f0i7dtG1a6YFPv00Xn+9ASq8alXcf3906xYVFS5zBeRJoPZqOJ7HVlvFuHFZRhnJq8+vhdttt6T3k/VusXxnhmLx0Ufxf//XSP/2V1/NdAtlkyZxwAG5/6V77RU775xpgcWL45VXGvW+3OAtwLRpmV5SfVI05w48MLbcMtMC778ff/tbw9T2pZeyH4kAkCeBtGo4nke3bnHyyQ2/trNmxcCB0aVLTJqU/RK4Jk1izz0b9Ye7225x/vmN9G9/6qn44INMC+y+e9LLz60f/jC+9a1MC8yeHVOm2JcbsgV46qlYtizTq/r0yf1YuP37J0k1g2nTcjlKU801bRqnn57Hu0YBeRJoFK69Nn7/+yzzK5SVxU47Fcppjdmz43vfixtvzH6BVubOfeGbNi3TkD9NmsQLL2R6eXl5HH107LNPY9yqp0xJskcG7drFoEG5/I2dOsWRR2a62HXt2rxP61d0+/L6bwGefjrLkEjbbBOnnJLLtT3wwCxHLj79NFmrusk6eNiQIVlGju3UKXkHAHkSqJeKiiKblrCyMlnnf/wjy2KZR0YpdpWV8atfZZm2rkOHxnuK8oknYvXqTLHq4IPrPgjw1/30p1nOay1YEA89ZF9u4BZg0aJ47rmoqkr7kuqxYXN1yq68PM46K8u0lv/8Z0yYkK9C3XRTlrBaVhb9+0e/fr4GAXkSqIeFC2Po0LzfRdOnT/zud9G+fc7W+cUXG/sHN2FCPPhgps5x9emRwYMbY3Huuy/eeSfTAptuGj/7WW4mDunfP446KtPJyYh44YX1kfTWz75c1C3A/fdnubi0U6e49NLcrOSwYVluyFy7Nv70p/xe7HrVVfHee5kWaNs2fvrTQpyeFJAngWJSw/E86mPw4DjllHj11RgwIDdv+PHHPre44op4661MCzRvHmedlbNOfBGZPTtJDpkv/txzzxg5sr6/qH37uOiiLLn0ww+TKFUy+3JRtwBPP539lN0hh+RgbpU99kh2vczTTs6eHePH57fskyfHrbdmuTZ4r70a74UMgDwJ5EwNx/OomwMPjIMPTjpqHTvG3XfHhAlZRsKsiVatfGhJf/R3v8syS/tOOzXSzuL48fHPf2ZaoLw8Tj01fvnLeoXJe+/NMhtEVVU88UTd75ErtH25BFqAG2/MMnFIs2ZxySVxxhn1CpO33x5bbZVpmcrKuOee9XEy+frrs8xHstFGMWiQgXkAeRKot2uvjYceynL9ZN0MGfLfm4iaNInDD49XX4377qt7n7J9+9h77yzLZB54o2SMHh3PPZclNTXOgXlqErabNo2zz44xY+pyvV+nTkku2n//JCZl3g6vuaZ09uUSaAEmTowHHshy7rp167jqqjjvvLqsW8+ece+92ePZ668nSW89WLgwrr46y8C2BuYB5EkgN845J/dT5PXrF9/73ld/2KxZHHlk0qN6+eU4/vja9ebLy+PKK2OnnTItU1WVfbiO0lBZGaNGZTnf0qFDjBjRGG+Ryhq2q+PN6afH88/H7rvX4p0HDYrJk6NHjyxhcvXqGD++YcbIyce+XDItQEVFlhGAq68Vv/zymDChFjOIlJcn7/znP8d222VZctmyJONl3m1z6O6749FHMx1fKCuLAQNydikyIE8CjVc+xvM45ZRo2zZt92uvveL222PRonjmmTj55GjRIsu7HXxwvPBCnHhilg7oJ5/Eq682lk+tJudbDjggTjqp0W3PlZVJkM66PZeVRc+e8eKLNTpjNnBgsmn97nex2WZZlqyqiscfj6uuKp19uWRagIULY+TI7HeZlpfH4YfHtGkxdmyWm5DLy5Nqv/lmXHJJtG6dfbP8/e+TjLc+XXNNlks2Ntkkzj7bwDxAlnZRCYDsqsfzGD8+N0Nf9usX++6bfbFWraJPn+QxfnwsXhz/+lf8/e9fulKxvDy6dInOnZOOaeYzQtVmz16vd6w1uIqK2G+/2GWXtAtUD8wzYcL6OyVSONvzmDFx2WVZRkb5/IxZ//6xYEE891xMnZpshNWaNIl99okePaJr17TR6OteeSVOPTX7NInFsi+XWAvw4IPRu3ecdlr2BNW6dZIVBw+OuXPjr39N0uzcuZ891aJF7L9/dOsWu++ePQl/fpThscdyMN5PHTaG8eOTuLvRRmmXqR6Y5/LLfQ0C8iRQPw8+GNtsU6MueFann16L/nd1r7F9+xrdHJVBZWU8+mgdh7hs2jSuuy555MrcuXHooTFzZn4/soUL48Yb45e/zPSRVQ/Mc+65jW57vvba2HrrJDk0aZJ94Q02iA4d4uijk0d9zJ6dhJAGT+853JdLrwUYPjw6dowjjkg+9Jqs2HbbJY8TTqhXQRrwKMO4cXH44dGjR9oFqgfmefjhvLdXQNFyvStQY9dfH088Ud/xPAYOrFensM7W20AXBWXcuHjqqSwd4sY5ME9EnHVWUp/11ol/77343/9tmNsm87Qvl2QLUFkZRx2V5cbC3Jo5syGPMixaFL/6VXz0UaZlDMwDyJNAblRWxqmn1nc8j3nz4p131ndHdtGiuPzyRndVZ/VH9utfG5gnrWHD4oYbYs2avP+id96Jk06Kxx4rqX25VFuAyso48sh4+OFYty7vKzZ9ehKwG/YowwMPxOOPG5gHkCeB9aL+43m89FJ07Rq/+EUsXrye1nnFirjiinjwwUb6kU2cGHfemeUsXOMcmKfaWWfF+efH0qX5ev+qqiQtHHJIPPlkqe3LJdwCVJ+lvO66LFPL1Me6dfGnP8XBB2cfVHY9uOKKLFuCgXkAeRLImerxPOp2I+LnfbWKiujWLW67Le8TrC9dGj/9aVx7baP+yK66Ksvc5dUD82QerLKE/frXMXBg0q3P+UmzNWvi9tujV6+CyAz52JdLuAWorIxzz40hQ+K993K/VsuXx6hRccQRhXLRxMyZccMNWcJz9cA8APIkkAMPPph0wVevrtebzJ4dJ50UXbrELbfk5UxFVVXSiR84MH7728b+eS1cGGPHJl3YDKoH5mm0nnwydtstxo2LTz7J5eY3YECykefqPQt2Xy7hFuCOO6Jr13jooZydqFy3LiZPju9+Ny6+uCGH+f260aNj6tRMC1QPzNOliy9AQJ4EcuGqq7LcclPzPuUpp8S3vpX897XXcnYn24IFccklSUIotIsMG8pNN2UZf6W8PI47Lvr0abwlqqyM009Ptpl7763XSbN16+Kf/4zBg6Nz53j00Ua0L5dqC7BwYfTvHz16xKRJ9Vq9ysp49dX4wQ+SMDl9eiFu/1deGR9+mGmZTp3iwgu1poA8CeSo85HD8TwqK+OWW2LPPaNt2xg0KCZOjCVL6tLBXbEiXn456ZhuuWVcdllhHf5vcFdfHe+/n2mB9u3jnHMa+y1Ss2fHj34U22wT11wT//537UZk+fjjeOqp+OEPY4cdku25ce7LpdoCTJ8effrE7rvHTTclYbXm61ZVFYsWxUMPRa9e0a1bQR9ieOyxePjhLAPz9O1rYB7gK9xaDdRV9Xge998fnTrl7D0/+SRuvTV5RMTWW8fBB8e++8ZOOyX/36xZbLzxl9LOmjXx6afJS95+O6ZMiT//OZ5/XoZMa/LkpLDnn58pMVYPzHPTTbbt+MlPksfWWye95/33j29/OzbfPNkCP5+vsqoqli9PHv/+d7z2WhIYMs+V39j25ZJsAWbNiiFDkv/p0iXZML773dhhh2jX7ksrtm5dslV8/PFna3XPPYUySUxNXHFF7LdfsrWnUz0wzyOPaGmB1KqqqioqKtQBAACArIHR9a4AAADUhTwJAACAPAkAAIA8CQAAgDwJAACAPAkAAADyJAAAAPIkAAAA8iQAAADyJAAAAPIkAAAAyJMAAADIkwAAAMiTAAAAyJMAAADIkwAAACBPAgAAIE8CAAAgTwIAACBPAgAAIE8CAACAPAkAAIA8CQAAgDwJAACAPAkAAIA8CQAAAPIkAAAA8iQAAADyJAAAAPIkAAAA8iQAAADIkwAAAMiTAAAAyJMAAADIkwAAAMiTAAAAIE8CAAAgTwIAACBPAgAAIE8CAAAgTwIAAIA8CQAAgDwJAACAPAkAAIA8CQAAgDwJAAAA8iQAAADyJAAAAPIkAAAA8iQAAADyJAAAAMiTAAAAyJMAAADIkwAAAMiTAAAAyJMAAAAgTwIAACBPAgAAIE8CAAAgTwIAACBPAgAAgDwJAACAPAkAAIA8CQAAgDwJAACAPAkAAADyJAAAAPIkAAAA8iQAAADyJAAAAPIkAAAAyJMAAADIkwAAAMiTAAAAyJMAAADIkwAAACBPAgAAIE8CAAAgTwIAACBPAgAAIE8CAACAPAkAAIA8CQAAgDwJAACAPAkAAIA8CQAAAPIkAAAA8iQAAADyJAAAAPIkAAAA8iQAAADIkwAAAMiTAAAAFJLywl/FZs1ihx2ibVsfVi7NmhX/+Y8yFJDtt4+OHZUhl+bNi3/9SxnAl2mDfZm2aBHduilSjr3+eixe7Mu0gL5Md9tNw5Jjb78d774rT+bUySfHb39r08q9sjI1KBSdO8fMmcqQe336xKRJygC+TBvmy/TRR6N3bxXKsfvui6OO8mVaKF+mFRUxcqQK5djMmbHLLsW0wkVwvWv79rarvPAlZyO3kYN2hvy1M5qgfPjmN23kBbSR9+qlPLnXpUuRrXB5Ea1rnz42sNw0Co4kFayf/9z5tNyYOFENwJdpQXyZTpqUtO3U38iRNY3ovkzX/5ephqUx99KLKU9qGnK1pWI7t5GDRob11s6oea7ypJrbyNW8ABnfFQAAAHkSAAAAeRIAAAB5EgAAAHkSAAAA5EkAAADkSQAAAORJAAAA5EkAAADkSQAAAJAnAQAAkCcBAACQJwEAAJAnAQAAkCcBAABAngQAAECeBAAAQJ4EAABAngQAAECeBAAAAHkSAAAAeRIAAAB5EgAAAHkSAAAAeRIAAADkSQAAAORJAAAA5EkAAADkSQAAAORJAAAAkCcBAACQJwEAAJAnAQAAkCcBAAAoZeVKADRO22yTPMihSZPUAADkSYBSd9hh8eijypBjL78cPXsqAwA0Iq53BRqjc89Vg9zr0UMNAKBxcX4SaNR+/nM1yI2RI9UAAORJgMakokINlBEAqCPXuwIAACBPAgAAsL643pXUevdWgxwzlQIAAPIkpe/WW+Okk5Qhx37zmxg2TBmgFNyz5Zb3z5t3n0IA0Oi53rXuOnaMK66IKVPigw9izZqoqkoe69bF8uUxb1785S8xZEix/mnCZD7sumvxrXPLlnHaacnGPG9efPJJsnl/cTtfsCCefz4uvTQ6d/bx0rgcNW/evREDFSI/jj02Fi/+rLX54uOmm9QmN7p3j7FjY/r0pM4rV/63wmvWxJIlMWtW3HNP8imQwy/T4cOTb8wFC75U8E8//eybdPjwZBkoUs5P1kXPnvGzn0Xv3rHxxl99qqws+eHGGydp83vfi1/8Im69NUaNimXLiu/PnDQpnn3Wp50DvXoV3/XDHTsm2+3hh0fr1ime/Xw7/9a3Yt9947zz4sUXk+X/8hefNo3GwIH33nffURHOUuYjT26yiTLkxSmnxNlnx847x4YbpuoUlidtfuvWsdNOMXBgXHNNEfdhiuLLtFmz5FH9TXrxxfHww3HJJTF/vrLl1803x4knptgFbr45Bg9WHnlyvbjssjjzzNTtwtf73JttFiNGxCGHxPDhRXn7nDkAcmLixCJb4YsvTrbYmvfnNtooycw9esQDD8Rpp+l50Dh06RIRImXODRvmBv686Nkzrroq9tsv6ZzUxOd9mKOOSjoDd96phLV22mlJPtxssxotvMkmcfLJyZfpyJGqnUdDh0b//qmPp1BnrnethZYtkz18xIgahckvtshdu8Yf/hDHHaeEFMFGfv/9SdehDicHvvGNOPbYeOwxl7/SaNx7bwwc6MLXHOrcOc48M5o3V4kcO+64eOCB2H//mobJL/ZhttsuxoyJ885Txdq56qq49tqahsnPbbutaue3hRk+PNq0UQl5suGMGRNHH13HQxodOsSoUdG3rypS0GHy7rvjBz+o+3G7srLYd98YPdp9IIiU1FrHjvGb38T226tEjg0aFNdck/RD6qx167jgghg6VC1r6vLLY9iw+MY3VLuwOjmjR2th5MkGNWxYDBhQr/PjHTvGlVc6dUPhGjEiDjywvheBlJVFnz4xZoxyIlJSC507x113Ja1HbU+gkbWwZ50V7dvX933atImLLnJYvEZ++MMYPLiOYVK189rJ2XdfLYw82XB23DFpGup/BU6XLnH66cpJITrggDjxxHp9/31uww3j8MNj0CBFRaSkRnr3Tkqoq5cP550Xu+ySm7faYos4+2wVze6MM3IQ4LfYIk47TS0LKOQjT9bXgAGxww656Wcfdlj07KmiFJwTTojNN8/Zu22ySfTvr6iIlGR3/vlx333RpYswmXsHHBAHHRQb5KivV1YW3bubRySLY4+NPfbITbX33Ve1c6Nz56ioyEHIR56sl7590x7SqKqK6dNj2LDYcsto1SpOOimeey4qK9O+VYcO8YMfqCiFpXv36NUrU59j6dK47bY48MDkG656O3/qqVi5MtN7fuc7SVcGRErS6dkznnwyLrssNt1UMfKif/9MBwq/2IEpK4u99oprr41585Kfp9OmTfJFQAaHHZZ2uJeqqvj3v+OSSz47enLkkfHQQ5m+Sdu0Sd6N+jv//OoBuckX84Vkd/jh8e1vp35q9eq4/fYYMuS/P7nttuRx+eUxfHjqCNqkSXTtqqgUlj594lvfSvvsrFlx+un/nfBm2bLPtvNBg2LUqLQH/Nq2jW7d4plnVJc8qojoVWiR8qijTCKSVceOMWJEHHdc7cZLp7b23jvtgcKVK+Pmm+PMM//7k6lTk0dFRdx9dxxySOp76cvK4jvfUde0dtwxundPfaZ97dr485/jmGP+O6XWAw8kj6FDk2/SlBG0rCxn1yo3ZvUfAAV5Mge6d0+9n1dVJT3sL4bJz110Uey+exx6aOo3zOFVhZATe+wRzZqlfmrhwmR7Tjl76i23xDbbxPnnx0YbpXi2adPYaiulJb9GVt971yCOPFKkrIPevZMMc9BBkmTeHX54kttTqqqKCRO+FCY/t2xZDB+etN677pr6tW3bJv2iqVMVOIV99kl7jPXvf08K+/X5mceNS3qMp56aOvlvsknst188/7zS1lHfvvHTn5qCSJ4sALvvnrq7vGRJ3HZb2ldNmZJ8XzZtmuIpx0goNBluD546NR56KO2zd94ZxxyTevTtDTZw4zvrK6CMHFlYqyRSpvfb3xrnfD3Zeee0UzctWRKPPJL2hW+9FU88kby8PFUnsUkTM0Kl1a1btGiR4ucrV8Y99ySFTen555Nv0pRHWMrKkoJTNy1bJhl+iy1UIu/cP5lds2bx6acpbieYPTvuuivtq2bPjtWrFY8isN9+aY+nrlgRzz2X6bVvvRVz5yohpIqU7qWsvaqqpNkhJ7bbLu1BvcwdmIiYPt0HURctWsTy5Sl6jAsWxFNPpX3VggXxySeKl3sVFdGrl4G+5MnCcPDB0bx5bLVVnHBC3HBDvPBCzJ+ftLNvv53pVZtvnvrAXvVxQSgcm20WG2+c+qlly2LWrCwvnzNHCUGkzE2YnDgxXnpJJXLWtqfrSWfuwETEu+/Gxx8rYa2ddFK0ahWtW8eRR8bo0UmG/Pe/49NPk3pmuEK4Xbu0t5ysWJH0OamDoUNj0KAUZ3fXrcs04hR143rXmpo/P+64I3nU0He+k/q4YFVV/OMfykkBefHFOOOM6NQpdt45NtkkttoqWrSIb34zystjzZpYvjzLy1Ne21M9WtV776kujT5SuvC1Zj4frSTDBfbUyujR8cgjseee0aZNbLddNG+eJMxvfCOJLlnPhjVvnvYyy6VLDbSWxbJln421U0N77pn2EuK5c9NeJUsGnTvHaaelGP2keuiT7t1dsy1PFoO+fdOeYV+yJJ5+WoUoIPPnxx//WPeXb7ll6p+vWOHQCYiUNbJyZdx5Z+rRSqiz6tR3yy11ee3WW6cdwsTpspwnn8MOS53eV67UY6yjK69MPaDUjBlx331JniS3XO+ae0ccEddfHx06pH72tdey3LQARaRv39huu9RPffBBvPKKCoELX7NYsCBJkkOGCJMFZJ99Ut8HUVmZ9MjJlZ494/e/TztC1dtv1+IkJ5+7/PL43vdSnNRZsiTGjs1+1RXyZEPq3DnOPjueeSb++MfUw11WH9W75hqlonT06xff/GaKn1dVxdSprtIBkTKTysp4/PHo3j3p5FFQIWeffVJfY7VokTNmOdCxY5xySjzySDzxRNr5KpcsiRtu8DVaa337xgknpLjjbO3a+MMfYtw4FcoL17vmwI03xpAh2cePWrIkLr88+e6Ekmm1+/VLPWXWRx/FhAkqBF+OlC58/ULfbvr0uPDC+MtfbBkF58wzU9/IUFUVU6boxtTLJZckm33KyeS+aOXKJEwKP7XVsmX84hepp1199tm44AIVyhfnJ3OgdevsYXLx4hg5UtNASbXaP/lJ6uu6q6rir3+t1z2ZULKR8v+fpezdiGuwalXSsRs4MPbcU5gsRKedFocdlvZAoRt26qlVq+yTkK9YEaNHx0UXqVatjRkTXbum+Pn8+XH11a6ozyPnJ3Ng000zPVtVFdOmxbnnxqRJSkXphMkHH4w+fVI/+/77rl4DUttjDzUoXEOHxhVXpJ5Yf926ePxxBwrrq02btJPJVfcY//3vqKiIO+9Uqrpsvf36pYjrK1fGzTc7r55fzk/mwOabZ3r273+Pm26KV19VJ0onTN56axImU56WX7kyfv97DTekctRR8f+vd3V0kQJ03HHxs5+lmGLh887MFVcoUn1ts02mZ+fPT3qMTj/UQc+ecd55qScImTAhiejIkwWte/e0c8FX23XXuOGGmDs3rr/edDeUSJj8wQ9SX7FTVRUvvBBXXqlOkDZMunmSwgyTV12Vdmj66oEx33hDneprk00yPbvlljFqVLz5Ztx9d+qbAEnXM7n00tRZfcaM+PnPVUieLHibbZYlT37egpx5Zrz4YvTurWYUcZN9991pw2R1w33WWW5RAGGSYjJoUFxzTdowaWyYXNlxx2jVKvtiG28cRx+d9BiPO07NamTEiNh337QThDgOIk8WgTZtolmzGi1ZVhZdusQdd0TfvspG8enYMR5+OL7//bRh8u23kzZdww3CJEVk2LAkTLZvn/rZ1avjzjuNDZOzr9Ea9hirF/7Nb2LoUGXL4uijkyqZIESeLG4tWsTzz8eFF8aBByaJccstk6Z56tSorEzbQFx5Zdq5a6Ewde4cDzyQ9p7JiJg1K0491W2TIExSTEaOjMsuS3vP5MqV8bvfxZAh6pQbzZrFjBlxxRVx2GHJl2mrVnHSSfHUU0mdU2rTJknyTkJk7pxccEG0bZviKROEyJPFZOzYOPTQGDUqnnkmqu+l/s1vYq+9kiZg6dLUL9lllzjvPJWjaPTuHfffn2zVKcNkVVVMnx6DBhlCAIRJismYMTFiRNqRHapnrTjzTHXKmcceS8LhRRcl/xMRy5bFbbfF976XJPb33kv9ko4d49xzVS6t88+PLl1S/NwEIfJkifjlL+O3v019zGmDDeKQQxxwojj07Rvjx8fOO6d+tqoqnn46DjssXnpJqUCYpGhUn3j8+lWC1RYvTqLmiBHqtD7ceWdcemksWZL62R494vTTFSmFESNi4EAThMiTpe7KK9NOE9K2bfTqpUIUuiOOSMLkDjukfrayMv7wh+jfP+bPVyoQJikOLVsmAebkk2OjjVIv8M47MWhQXH+9Uq0/48bFE09EVVWKp5o3j333VaEUDjoo9f2o3/hGjByZFDPl4/bb056TP+WULy358cdx/PHKXCPlSpA/y5bFSy9Fjx4p5q5t0iS6dlUhClrm4eOXLUt6GxdfrE40tEmTGuZi6zFjUl9oJUxS2GEy85xPr7wSw4a55KQBPP98HHpokh6/oqwsdtlFeZAnG7E5c2LVqhR5MiI231x5KNYwuXBhVFTE2LHqRAP7eUSvhgiTvSPi/vtT50lhkuIMk2vXxhNPxKmnuuSkYcydG8uXp8iT1XPO7bdfEjhBnizi9vfgg2PHHWOXXWK77ZK9+lvfSiLitdfGJZdkee3SpbFuXeqn0k26AA2ub98YNSptmPznP+MnP4lHHlEnGl5FA/3eqnRPCJMUsDFj0obJ6nlBzj7bECb1deihSY9xt91i++2jbdvYfPPYeOOktoMHZ3nh8uWxZk3qp8rKokkTpUWeLFpXXx1nnZX6BONWW2V/eadOae9PgIINk+PHR8eOqfrQVfH66zF0qEuhQJikyNx2W/z4x6nD5IoVcf31Rt+przPPjCuvTH2Ccdtts798s82iRQtVpCgZjyeLhQvTHi7abbe0d/R+buut0+bJtWtVl4LTuXPydZgyTEbEjBlx7LHCJAiTFJnLL0+20JRhcuXK+PWvhckc+M9/YtWq1E9tu2307Jnl5TvtlHp0meqDuen6oiBPFoFZs9Je+7HjjnHyyZleu+OO8d3vpp3//f33VZfC0rJljB4du+6a+tn585MOxxtvqBMIkxSToUPj9NNTTw2ydm3ce29cdJEi5cD06bF4ceqnOnSIgQOzvLx377RnID76yM2TyJPF7NFH096Y3rx5nHJKdO6c9rUXXRTbb5/6qXXr4u23VZfCUlERvXqlPgKydGlccYXZnECYpMh07hzDh0ebNqmfffbZOPNMRcqNt95Ke8i1SZOkncgw8fjll0f37mmfnT1bdZEni9yUKWnH1Nl11xg3LkWkbNkybrgh7bUl1b3zyZOVlgJy9NFx0klp7/hv3TrZpNPN5pTucdNN6oowCQ3pyivTHtqOiAMOiI8/rl3DPn9+8ipSeumlWLky9VMdO8Y110Tv3imeuvjiOOOM1CeQqy9IdptJSgcdFGVltX6ccELaCw9vvvlLS7ZqFXfcoczyZI5MmBAffJD6qbKy2G+/ePbZuOWWzw4sde4cP/tZvPxyDB2atmmIiL//Pe66S2kpIIMHR9u2ygDCJKVjyJCkl5Luvhty7oEHYu7ctM/uvHPSpbz//s9OVHbsGP/7vzFlSowcGa1bp33V3LnJ20IhM75rdo8/niTGgQPTtsibbhonn5zlXsovWr48aU2gcJx+evTooQxQGzNnCpMUuOOPT3ulK/nw1lvx2GOx7bZpL/Zp2TIGDEgeNbRmTfKGb72ltBQ05ydr5MYbcza9b1VVPPNMXH+9olJAvv99w5QXrmOPjcWLXU5ceIRJCr7p2GUXZWiAHmMOB66bPj0qKhQVebIkPPNM3HJL2mvia2XGDKNyU1j69o1u3ZShoDuFm2yiDIXl99tsI0xS4A47zMnJBvDWW3H99fHRRzl4q/nz45JL0t7sB/Jk8amoiDvvjNWr6/Umb79txgUKzoEHRrt2ylCghg1LPX4DDevkOXOESQrZjjtG9+7unGwYt9wSo0fXNwcuXBgjRxpWneLg/slaGDIkVq2KU07JNNBOOlVV8frrMXSoQbooON/5TpRrCQpS585x5pnRvLlKALWzzz7Rvr0yNJif/zxWrIgLL8w00E4G77wTw4bFI48oJMXB+cnaOfPMGD48Fiyo3atWrox77onDDhMmKTgtW8YWWyhDIerYMX7zm0wD/QOks/32dTn2TQ798pdx4onx9ttRVVWLV1VWxlNPxY9+JEwiT5a0sWOje/e4885YujT7wqtXJxnyBz+IY47J2Yg+kEM9e9bx6Cl51blz3HVX9OnjcjWgLjp2jI02UoYG9sgjseeecd11sXBh9lS5dm38/e8xdGh873tOP1BkXOVWF/Pnx/HHR8uWMWRI/PCHscMO0apVNGv22bOrVsWyZTF7djz9dNxxh7slKWhPPhkdOihDYendO8aMSSKlMEkjdNBBapADJ52UPGhwy5bF8OHJY8iQOPLIpGFv2zbpMVY375WVyQLz5sXkyXHLLTF1qoLl3R13JA/kyQJqI669NnkA5Mr558dPfhKbbqoSAKXjd79LHlCSXO9KKdhxx/jb31JM0Pfxx3H88cpDcejZM558Mi67TJgEAIqG85OUgosuMmszRaxjxxgxIo47zr2sAIA8CevXsGExYEBsuKFKUHx6944zz4yDDpIkAQB5Eta7vn3jpz81QR/F6re/jc6dlQEAKFbun6SItWwZw4ebPpGSVVUVK1YoAwAgT0IeVFREr17mVKBkw+TEiWYhAwDkSciDoUNj0KBo0kQlKEFr18af/hQ/+EGsW6cYAIA8CTnVuXOcdlq0aaMSlKCVK+PWW+OYY2LZMsUAAORJyLWRI2PXXZWBErRgQQwfHkOGCJMAQBEwvivF5/LLo18/t01Saior48kn49RTY/58xQAAioPzkxSZvn3jhBPiG99QCUrH2rXx2mtx2GHx/e8LkwBAMXF+kmLSsmVcdFF07KgSlIhVq+LZZ2P06HjoIcUAAORJyKcxY6JnzxQ/X7cuNnCunSK0xx5qAAAUMX1wisbQodGvX2y44Vd/vnx5PP208gAAwPrm/CTFoWfPOO+8FBOErF0bDzwQa9aoEAAArG/OT1IEWraMSy+NbbZJ8dTMmXHVVSoEAADyJKQyYkTsu2+KCUIWL45Ro+KNN1QIAADkSfiao4+OoUNTTBCyenXceGP88Y8qBAAA8iR8TefOccEF0bbtV39eVRXPPRejRqkQAADIk5DK+edHly4pfj5/fhImly1TIQAAkCfha0aMiIEDU08QcvXV8cwzKgQAAPIkfE3fvnHGGdGs2Vd/Xj1ByPXXqxAAAMiT8DUtW8bw4bHFFimeMkEIAADIk5DWqFHRp48JQgAAQJ6E2hg6NH784xS3TZogBAAA5ElIq3PnOO20aNPmqz83QQgAAMiTkMmVV8auu6b4uQlCAABAnoS0Djgg9tgjxW2TEbHllvH001FVlfpxyimp37Bly7j99i8tOXOmMgMAgDwJAACAPAkAAIA8CQAAgDwJAAAA8iQAAADyJAAAAPIkAAAA8iTU2TPPRMeOUVZW68fNN6d+w2XL4oQTvrRkly7KDAAA8iQAAAANp1wJAArWQQepAQBQuJyfBAAAQJ4EAABAngQAAECeBAAAoNQU03g8FRU+L0qf7RzQyKg5aq7gyJO5N3Kkz4sSZyMHtDMlpnfv5IGNXM0pVUVwvev06T6mvJg0qXT+lsGDo6wsxaNVq7jjjiJY/1mzbI95cd11agC+TBvsy/Thh5Un9155xZdpAX2Z3nab8uTe5MlFtsJFcH7yoYeiU6fYZhtblzBZsv7znyT9OoBtIwdfpqXUzvzwhxr29VpzX6brfyP//e/jL3+Jb39bnRp1B6Y4rnedMyd5gOYDwJephh01Lxzvv588aMyM7woAAIA8CQAAgDwJAACAPAkAAIA8CQAAAPIkAAAA8iQAAADyJAAAAPIkAAAA8iQAAADIkwAAAMiTAAAAyJMAAADIkwAAAMiTAAAAIE8CAAAgTwIAACBPAgAAIE8CAAAgTwIAAIA8CQAAgDwJAACAPAkAAIA8CQAAgDwJAAAA8iQAAADyJAAAAPIkAAAA8iQAAADyJAAAAMiTAAAAyJMAAADIkwAAAMiTAAAAlLJyJQAas9691QAAQJ4EqL2JE9UAAKCOXO8KNEbPPqsGuffyy2oAAI2L85NAY1RREY8+Gi1bqkQuzZmjBgAgTwI0Aq++qgYAAPXielcAAADkSQAAANYX17uSiakUAAAAeZK6hEl5EgAASMf1rqQwaZIa5N6MGWoAAEBJcX6SFPr1iz33VIYcmzlTDQAAkCcpdcuWOUUJAABk4XpXAAAA5EkAAADkSQAAAORJAAAA5EkAAACQJwEAAJAnAQAAkCcBAACQJwEAAJAnAQAAQJ4EAABAngQAAECeBAAAQJ4EAABAngQAAAB5EgAAAHkSAAAAeRIAAAB5EgAAAHkSAAAA5EkAAADkSQAAAORJAAAA5EkAAADkSQAAAJAnAQAAkCcBAACQJwEAAJAnAQAAkCcBAABAngQAAECeBAAAQJ4EAABAngQAAECeBAAAAHkSAAAAeRIAAAB5EgAAAHkSAAAAeRIAAADkSQAAAORJAAAA5EkAAADkSQAAAORJAAAAkCcBAACQJwEAAJAnAQAAkCcBAACQJwEAAECeBAAAIFfKv/LvXr16TZw4UV0AAADIbMMv/qOsrGybbbZRFAAAAL5izpw5v/rVrz744AOlAAAAoF7cPwkAAIA8CQAAgDwJAACAPAkAAECp+X8BAAD//yBzv+XNXDHiAAAAAElFTkSuQmCC)\n",
        "\n",
        "La necesidad de ordenar valores aparece con bastante frecuencia en la vida diaria, siendo así también al momento de desarrollar cualquier tipo de software, para ellos existen distintos métodos, siendo el insertionSort un método muy similar a la forma en que el cerebro humano trabaja al ordenar elementos.\n",
        "\n",
        "\n",
        "\n"
      ],
      "metadata": {
        "id": "va7ng2OmsSSx"
      }
    },
    {
      "cell_type": "markdown",
      "source": [
        "# 2-Código\n",
        "\n"
      ],
      "metadata": {
        "id": "YDKFERxANGjn"
      }
    },
    {
      "cell_type": "code",
      "source": [
        "def insertionSort(numeros, verbose=False):\n",
        "    comparaciones = 0\n",
        "    #Ciclo que recorre el arreglo\n",
        "    for i in range(1, len(numeros)):\n",
        "        if verbose == True: print(\"\\nPasada\",i)\n",
        "        key = numeros[i] #Key guarda el valor que se comparará con los valores a su izquierda\n",
        "        j = i - 1\n",
        "\n",
        "        #Ciclo que recorre el sub arreglo, que va desde la posición 0 hasta i\n",
        "        #Este se ejecuta hasta llegar al inicio del arreglo o hasta que key sea \n",
        "        #mayor al número anterior, intercambiando posiciones en cada iteración\n",
        "        while j >= 0 and key < numeros[j]:\n",
        "            comparaciones+=1\n",
        "            if verbose == True:print(numeros)\n",
        "            numeros[j + 1] = numeros[j] \n",
        "            j = j - 1\n",
        "        if verbose == True:print(numeros)\n",
        "        numeros[j + 1] = key\n",
        "\n",
        "        if verbose == True:print(\"\\nAl finalizar la pasada: \") \n",
        "        if verbose == True:print(numeros)\n",
        "\n",
        "    return comparaciones, verbose\n",
        "\n",
        "\n",
        "numeros = [8, 12, 1, 6, 3]\n",
        "comparaciones = 0\n",
        "verb = False\n",
        "\n",
        "print('Entrada:')\n",
        "print(numeros)\n",
        "comparaciones, verb = insertionSort(numeros)\n",
        "print('\\nSalida:')\n",
        "print(numeros)\n",
        "if verb == True:print(\"\\nNúmero de retrocesos:\", comparaciones)"
      ],
      "metadata": {
        "colab": {
          "base_uri": "https://localhost:8080/"
        },
        "id": "Qef3pxNpOR4b",
        "outputId": "127edd6c-2d52-442b-91d7-14ea8e50189c"
      },
      "execution_count": 82,
      "outputs": [
        {
          "output_type": "stream",
          "name": "stdout",
          "text": [
            "Entrada:\n",
            "[8, 12, 1, 6, 3]\n",
            "\n",
            "Salida:\n",
            "[1, 3, 6, 8, 12]\n"
          ]
        }
      ]
    },
    {
      "cell_type": "markdown",
      "source": [
        "# 2.1-Descripción del algoritmo:\n",
        "\n",
        "El algoritmo recibe un arreglo con datos desordenados, para ser reubicados en el mismo arreglo de manera ordenada.\n",
        "\n",
        "-Se recorrerá el arreglo de izquierda a derecha empezando por el segundo valor.\n",
        "\n",
        "-Se compara cada valor con los valores a su izquierda.\n",
        "\n",
        "-Se intercambian las posiciones desplazando el valor que se está comparando hacia la izquierda si se encuentra un número mayor, posicionandose detrás de este.\n",
        "\n",
        "-Si es el menor número a comparación con los valores a su izquierda, entonces se posiciona al principio del arreglo.\n",
        "\n",
        "-Al final del proceso el arreglo estará ordenado."
      ],
      "metadata": {
        "id": "e_fKm2tFaDEV"
      }
    },
    {
      "cell_type": "markdown",
      "source": [
        "#2.2 Ejemplo\n",
        "\n",
        "Utilizando el arreglo del ejemplo: [8, 12, 1, 6, 3]\n",
        "\n",
        "En la primera pasada los dos primeros números están ordenados, así que no hay\n",
        "cambios\n",
        "\n",
        "[8, 12, 1, 6, 3]\n",
        "\n",
        "En la segunda pasada el 1 se coloca al inicio del arreglo al ser el número más pequeño\n",
        "\n",
        "[1, 8, 12, 6, 3]\n",
        "\n",
        "En la siguiente iteración el 6 se coloca antes del 8\n",
        "\n",
        "[1, 6, 8, 12, 3]\n",
        "\n",
        "Y por último el 3 se coloca antes del 6\n",
        "\n",
        "[1, 3, 6, 8, 12]"
      ],
      "metadata": {
        "id": "kUvP6Jytce8R"
      }
    },
    {
      "cell_type": "markdown",
      "source": [
        "#2.3 - Ejecución paso a paso (verbose = True)\n",
        "Entrada:\n",
        "\n",
        "[8, 12, 1, 6, 3]\n",
        "\n",
        "Pasada 1\n",
        "\n",
        "[8, 12, 1, 6, 3]\n",
        "\n",
        "Al finalizar la pasada: \n",
        "\n",
        "[8, 12, 1, 6, 3]\n",
        "\n",
        "Pasada 2\n",
        "\n",
        "[8, 12, 1, 6, 3]\n",
        "\n",
        "[8, 12, 12, 6, 3]\n",
        "\n",
        "[8, 8, 12, 6, 3]\n",
        "\n",
        "Al finalizar la pasada: \n",
        "\n",
        "[1, 8, 12, 6, 3]\n",
        "\n",
        "Pasada 3\n",
        "\n",
        "[1, 8, 12, 6, 3]\n",
        "\n",
        "[1, 8, 12, 12, 3]\n",
        "\n",
        "[1, 8, 8, 12, 3]\n",
        "\n",
        "Al finalizar la pasada: \n",
        "\n",
        "[1, 6, 8, 12, 3]\n",
        "\n",
        "Pasada 4\n",
        "\n",
        "[1, 6, 8, 12, 3]\n",
        "\n",
        "[1, 6, 8, 12, 12]\n",
        "\n",
        "[1, 6, 8, 8, 12]\n",
        "\n",
        "[1, 6, 6, 8, 12]\n",
        "\n",
        "Al finalizar la pasada: \n",
        "\n",
        "[1, 3, 6, 8, 12]\n",
        "\n",
        "Salida:\n",
        "\n",
        "[1, 3, 6, 8, 12]\n",
        "\n",
        "\n",
        "Número de retrocesos: 7"
      ],
      "metadata": {
        "id": "PAnn8fErgsc-"
      }
    },
    {
      "cell_type": "markdown",
      "source": [
        "#3-Tiempo de ejecución: \n",
        "\n",
        "Mejor caso: O(n)\n",
        "\n",
        "Este se da si el arreglo está ordenado, ejecutándose el ciclo únicamente n veces siendo n el número de elementos del arreglo, sin necesidad de intercambiar posiciones.\n",
        "\n",
        "Caso promedio: O(n^2)\n",
        "\n",
        "Este se da cuando los elementos no están en orden ascendiente ni descendiente.\n",
        "\n",
        "Peor caso: O(n^2)\n",
        "\n",
        "Este sucede cuando los elementos están ordenamos de manera contraria a como serán ordenados, cada elemento tendrá que ser comparado con todos los elementos anteriores."
      ],
      "metadata": {
        "id": "DVM0R1j5a1Ii"
      }
    },
    {
      "cell_type": "markdown",
      "source": [
        "#4-Correctitud\n",
        "\n",
        "El algoritmo genera un arreglo con los mismos elementos del arreglo de entrada ordenados de menor a mayor.\n",
        "\n",
        "#Prueba del teorema\n",
        "\n",
        "Probaremos la siguiente propiedad invariante de bucle para el insertion sort:\n",
        "Al inicio de cada iteración i del ciclo, el arreglo hasta numeros[i] consiste de los elementos originales pero ordenados.\n",
        "\n",
        "Inicialización\n",
        "\n",
        "El arreglo hasta la posición i solo incluye el primer valor, por lógica considerandose ordenado.\n",
        "\n",
        "Mantención\n",
        "\n",
        "Cada iteración del bucle expande las posiciónes que se consideran, pero se mantienen ordenadas, cada vez que se considera una nueva posición, las posiciónes a la izquierda de esta ya están ordenadas, solo habiendo la necesidad de mover dicho valor a la posición que le corresponde, así que el arreglo mantiene su propiedad.\n",
        "\n",
        "Correctitud\n",
        "\n",
        "Al finalizar el ciclo la i ya ha llegado a la última posición, habiendo comprobado todas las posiciónes anteriores, por consiguiente estando ordenado el arreglo."
      ],
      "metadata": {
        "id": "sSbrq8HligtR"
      }
    },
    {
      "cell_type": "markdown",
      "source": [
        "#5-Experimentos\n"
      ],
      "metadata": {
        "id": "R0T_jdD5otif"
      }
    },
    {
      "cell_type": "markdown",
      "source": [
        "#5.1 - Número de comparciones realizadas"
      ],
      "metadata": {
        "id": "KTecXvJO3nKO"
      }
    },
    {
      "cell_type": "markdown",
      "source": [
        "La siguiente gráfica muestra una gráfica comparativa entre el mejor caso, el peor caso y el caso promedio con entradas aleatorias para tamaños de problemas con  n∈[5,19] .:"
      ],
      "metadata": {
        "id": "9yvDhrTbN_ct"
      }
    },
    {
      "cell_type": "code",
      "source": [
        "import matplotlib.pyplot as plt\n",
        "import random\n",
        "\n",
        "x=[n for n in range(5,20)] \n",
        "y1=[n*(n-1)/2 for n in range(5,20)] # worst case\n",
        "y2=[n-1 for n in range(5,20)] # best case\n",
        "y=[]; \n",
        "\n",
        "for n in range(5,20):\n",
        "  e = 0\n",
        "  a = random.sample(range(1, 100), n)\n",
        "  counter,e = insertionSort(a)\n",
        "  y.append(counter)\n",
        "\n",
        "plt.plot(x,y)\n",
        "plt.plot(x,y1)\n",
        "plt.plot(x,y2)\n",
        "plt.legend([\"Insertion Sort\", \"Mejor caso\", \"Peor Caso\"])\n",
        "\n",
        "plt.xlabel('n')\n",
        "plt.ylabel('Numero de operaciones')\n",
        "plt.show()"
      ],
      "metadata": {
        "colab": {
          "base_uri": "https://localhost:8080/",
          "height": 279
        },
        "id": "ZTDDZQXQnwJj",
        "outputId": "8f1f0cff-8538-435a-fe72-6acdcb2662a2"
      },
      "execution_count": 81,
      "outputs": [
        {
          "output_type": "display_data",
          "data": {
            "text/plain": [
              "<Figure size 432x288 with 1 Axes>"
            ],
            "image/png": "[encoded data removed]"
          },
          "metadata": {
            "needs_background": "light"
          }
        }
      ]
    },
    {
      "cell_type": "markdown",
      "source": [
        "#Análisis de resultados:\n",
        "\n",
        "Como cabe esperar, en un caso promedio el número de comparaciones se encuentra a la mitad del gráfico de mejor y peor caso."
      ],
      "metadata": {
        "id": "tPMtTOkFvPge"
      }
    },
    {
      "cell_type": "markdown",
      "source": [
        "#5.2 Comparación del tiempo de ejecución con Bubble sort"
      ],
      "metadata": {
        "id": "QFlbH2Gd_HTn"
      }
    },
    {
      "cell_type": "code",
      "source": [
        "import matplotlib.pyplot as plt\n",
        "import datetime\n",
        "from timeit import repeat\n",
        "\n",
        "def bubbleSort(array):\n",
        "  count = 0\n",
        "  for i in range(len(array)):\n",
        "        \n",
        "    swapped = False\n",
        "    \n",
        "    for j in range(0, len(array) - i - 1):\n",
        "      count += 1\n",
        "      if array[j] > array[j + 1]:\n",
        "        temp = array[j]\n",
        "        array[j] = array[j+1]\n",
        "        array[j+1] = temp\n",
        "\n",
        "        swapped = True\n",
        "    if not swapped:\n",
        "      break\n",
        "\n",
        "x=[]; y=[]\n",
        "x2=[]; y2=[]\n",
        "\n",
        "for n in range(1,100):\n",
        "\n",
        "  a = random.sample(range(1, 1000), n)\n",
        "  t = repeat(setup=\"from __main__ import insertionSort\", stmt=f\"insertionSort({a})\", repeat=1, number=10)\n",
        "\n",
        "  x.append(n)\n",
        "  y.append(t)\n",
        "\n",
        "for n in range(1,100):\n",
        "\n",
        "  a = random.sample(range(1, 1000), n)\n",
        "  t = repeat(setup=\"from __main__ import bubbleSort\", stmt=f\"bubbleSort({a})\", repeat=1, number=10)\n",
        "\n",
        "  x2.append(n)\n",
        "  y2.append(t)\n",
        "\n",
        "\n",
        "plt.plot(x,y)\n",
        "plt.plot(x2,y2)\n",
        "plt.legend([\"InsertionSort\", \"bubbleSort\"])\n",
        "\n",
        "\n",
        "\n",
        "plt.xlabel('n')\n",
        "plt.ylabel('time in ms')\n",
        "plt.show()"
      ],
      "metadata": {
        "colab": {
          "base_uri": "https://localhost:8080/",
          "height": 283
        },
        "id": "7tRq68uDAQOL",
        "outputId": "e7686aea-d835-48c8-d6bf-cf3f530b51fa"
      },
      "execution_count": 78,
      "outputs": [
        {
          "output_type": "display_data",
          "data": {
            "text/plain": [
              "<Figure size 432x288 with 1 Axes>"
            ],
            "image/png": "[encoded data removed]"
          },
          "metadata": {
            "needs_background": "light"
          }
        }
      ]
    },
    {
      "cell_type": "markdown",
      "source": [
        "#Análisis de resultados:\n",
        "\n",
        "En el gráfico se puede apreciar como el tiempo de ejecución del bubble sort está por encima del insertion a partir de los 20ms y se va alejando progresivamente, por lo tanto se puede decir que para problemas pequeños ambos algoritmos ofrecen un rendimiento similar, pero para problemas más grandes es más rápido el insertion sort."
      ],
      "metadata": {
        "id": "Io_lv_jKO4wJ"
      }
    }
  ]
}