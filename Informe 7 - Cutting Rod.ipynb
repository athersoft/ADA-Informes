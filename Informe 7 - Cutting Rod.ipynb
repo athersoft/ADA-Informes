{
  "nbformat": 4,
  "nbformat_minor": 0,
  "metadata": {
    "colab": {
      "provenance": [],
      "collapsed_sections": [],
      "authorship_tag": "ABX9TyMJBRUtHnJuHaty0FWMurMk",
      "include_colab_link": true
    },
    "kernelspec": {
      "name": "python3",
      "display_name": "Python 3"
    },
    "language_info": {
      "name": "python"
    }
  },
  "cells": [
    {
      "cell_type": "markdown",
      "metadata": {
        "id": "view-in-github",
        "colab_type": "text"
      },
      "source": [
        "<a href=\"https://colab.research.google.com/github/athersoft/ADA-Informes/blob/main/Informe%207%20-%20Cutting%20Rod.ipynb\" target=\"_parent\"><img src=\"https://colab.research.google.com/assets/colab-badge.svg\" alt=\"Open In Colab\"/></a>"
      ]
    },
    {
      "cell_type": "markdown",
      "source": [
        "#1-Descripción del problema\n",
        "\n",
        "Entrada: Largo de varilla $n$, vector de precios por cada medida $i=1..n$\n",
        "\n",
        "Salida:  Retorno máximo $r_n$ que se puede obtener cortando la varilla y los cortes necesarios para ello.\n",
        "\n",
        "El problema de corte de varillas busca obtener determinada cantidad de cortes en una varilla, tienendo cada corte un precio, se busca cual es la cantidad de cortes que retornan la mayor cantidad de beneficio."
      ],
      "metadata": {
        "id": "IRunIAz5RjaX"
      }
    },
    {
      "cell_type": "markdown",
      "source": [
        "![Fig-15-2-alt-rod-cutting.jpg](data:image/jpeg;base64,/9j/4AAQSkZJRgABAQEASABIAAD/4RUKRXhpZgAATU0AKgAAFKL/2P/gABBKRklGAAEBAAABAAEAAP/iBUBJQ0NfUFJPRklMRQABAQAABTBhcHBsAiAAAG1udHJSR0IgWFlaIAfZAAIAGQALABoAC2Fjc3BBUFBMAAAAAGFwcGwAAAAAAAAAAAAAAAAAAAAAAAD21gABAAAAANMtYXBwbAAAAAAAAAAAAAAAAAAAAAAAAAAAAAAAAAAAAAAAAAAAAAAAAAAAAAAAAAAAAAAAC2RzY20AAAEIAAAC8mRlc2MAAAP8AAAAb2dYWVoAAARsAAAAFHd0cHQAAASAAAAAFHJYWVoAAASUAAAAFGJYWVoAAASoAAAAFHJUUkMAAAS8AAAADmNwcnQAAATMAAAAOGNoYWQAAAUEAAAALGdUUkMAAAS8AAAADmJUUkMAAAS8AAAADm1sdWMAAAAAAAAAEQAAAAxlblVTAAAAJgAAAn5lc0VTAAAAJgAAAYJkYURLAAAALgAAAepkZURFAAAALAAAAahmaUZJAAAAKAAAANxmckZVAAAAKAAAASppdElUAAAAKAAAAlZubE5MAAAAKAAAAhhuYk5PAAAAJgAAAQRwdEJSAAAAJgAAAYJzdlNFAAAAJgAAAQRqYUpQAAAAGgAAAVJrb0tSAAAAFgAAAkB6aFRXAAAAFgAAAWx6aENOAAAAFgAAAdRydVJVAAAAIgAAAqRwbFBMAAAALAAAAsYAWQBsAGUAaQBuAGUAbgAgAFIARwBCAC0AcAByAG8AZgBpAGkAbABpAEcAZQBuAGUAcgBpAHMAawAgAFIARwBCAC0AcAByAG8AZgBpAGwAUAByAG8AZgBpAGwAIABHAOkAbgDpAHIAaQBxAHUAZQAgAFIAVgBCTgCCLAAgAFIARwBCACAw1zDtMNUwoTCkMOuQGnUoACAAUgBHAEIAIIJyX2ljz4/wAFAAZQByAGYAaQBsACAAUgBHAEIAIABHAGUAbgDpAHIAaQBjAG8AQQBsAGwAZwBlAG0AZQBpAG4AZQBzACAAUgBHAEIALQBQAHIAbwBmAGkAbGZukBoAIABSAEcAQgAgY8+P8GWHTvYARwBlAG4AZQByAGUAbAAgAFIARwBCAC0AYgBlAHMAawByAGkAdgBlAGwAcwBlAEEAbABnAGUAbQBlAGUAbgAgAFIARwBCAC0AcAByAG8AZgBpAGUAbMd8vBgAIABSAEcAQgAg1QS4XNMMx3wAUAByAG8AZgBpAGwAbwAgAFIARwBCACAARwBlAG4AZQByAGkAYwBvAEcAZQBuAGUAcgBpAGMAIABSAEcAQgAgAFAAcgBvAGYAaQBsAGUEHgQxBEkEOAQ5ACAEPwRABD4ERAQ4BDsETAAgAFIARwBCAFUAbgBpAHcAZQByAHMAYQBsAG4AeQAgAHAAcgBvAGYAaQBsACAAUgBHAEIAAGRlc2MAAAAAAAAAFEdlbmVyaWMgUkdCIFByb2ZpbGUAAAAAAAAAAAAAABRHZW5lcmljIFJHQiBQcm9maWxlAAAAAAAAAAAAAAAAAAAAAAAAAAAAAAAAAAAAAAAAAAAAAAAAAAAAAAAAAAAAAAAAAABYWVogAAAAAAAAWnUAAKxzAAAXNFhZWiAAAAAAAADzUgABAAAAARbPWFlaIAAAAAAAAHRNAAA97gAAA9BYWVogAAAAAAAAKBoAABWfAAC4NmN1cnYAAAAAAAAAAQHNAAB0ZXh0AAAAAENvcHlyaWdodCAyMDA3IEFwcGxlIEluYy4sIGFsbCByaWdodHMgcmVzZXJ2ZWQuAHNmMzIAAAAAAAEMQgAABd7///MmAAAHkgAA/ZH///ui///9owAAA9wAAMBs/9sAQwACAgICAgECAgICAgICAwMGBAMDAwMHBQUEBggHCAgIBwgICQoNCwkJDAoICAsPCwwNDg4ODgkLEBEPDhENDg4O/9sAQwECAgIDAwMGBAQGDgkICQ4ODg4ODg4ODg4ODg4ODg4ODg4ODg4ODg4ODg4ODg4ODg4ODg4ODg4ODg4ODg4ODg4O/8AAEQgALQDIAwEiAAIRAQMRAf/EAB8AAAEFAQEBAQEBAAAAAAAAAAABAgMEBQYHCAkKC//EALUQAAIBAwMCBAMFBQQEAAABfQECAwAEEQUSITFBBhNRYQcicRQygZGhCCNCscEVUtHwJDNicoIJChYXGBkaJSYnKCkqNDU2Nzg5OkNERUZHSElKU1RVVldYWVpjZGVmZ2hpanN0dXZ3eHl6g4SFhoeIiYqSk5SVlpeYmZqio6Slpqeoqaqys7S1tre4ubrCw8TFxsfIycrS09TV1tfY2drh4uPk5ebn6Onq8fLz9PX29/j5+v/EAB8BAAMBAQEBAQEBAQEAAAAAAAABAgMEBQYHCAkKC//EALURAAIBAgQEAwQHBQQEAAECdwABAgMRBAUhMQYSQVEHYXETIjKBCBRCkaGxwQkjM1LwFWJy0QoWJDThJfEXGBkaJicoKSo1Njc4OTpDREVGR0hJSlNUVVZXWFlaY2RlZmdoaWpzdHV2d3h5eoKDhIWGh4iJipKTlJWWl5iZmqKjpKWmp6ipqrKztLW2t7i5usLDxMXGx8jJytLT1NXW19jZ2uLj5OXm5+jp6vLz9PX29/j5+v/aAAwDAQACEQMRAD8A/fyiivOvFVxpg+Kfh2z1rW7jSNMk0q+l2prMtgssqy2gUlo5ELEK74BJxuNAHohOFJwT7CuV8E+Kk8afDmz8RJpWpaMlxJKgtb6PbKvlyNHn3B25BHBByMjBPG2l98O7vXtVsR4rv42sXjVpG8cXW2TegfK/6T2zj61njXvhyfhreeJf+El1Tyre1nnNr/wnFz5rCLdlR/pOMnbx9RQB7bRXksk/hy28f+DE8PeKLu+ubjV3int/+EnnvBJF9juWIMbzMCAyoc44IFetUAFY/iHV4/D/AID1rXpYWuItOsZbt4lcKXEaFyoJ4BOMc1sV534qn0wfE/w7Z61rdxpGmSaXfS4TWZbBZZVlswuWjkQsQrvgEnqaAO/glWezhnT7kiB1+hGafI4jheQgkKpJA9q8abUooPhJ8XZdG168u7Ow877Def2tJctb/wDEugkOyZnZhh2ZvvcEnpVrUL74d6fPpsbeK7+Y3l4LZSnji6xGSjtubNz0+XH4ihgjsPAni2Hx18KNH8V29hd6XDqEbMtrdY8yLa7IQ2OP4c8etdbXkX274d/8Jf8A2R/wld/v+x/afO/4Ti62Y37dv/HznPeuj8EXFrNN4ti0/VJ9W0231oR2ksmovebVNnauyiR2Ykb3c4zwSaAO6oorjvH1y9n8J9VnW8l08Awq9xFcGFo0aZFc+YCCnyk/MCMeooA0NS8QRab448OaI9tLK+rvOqTK3ERij8z5gMnBGRu4UHgkEqG6GvIrq++Hdr4g0vTz4rv5GvTIFkXxxdbY9i7vm/0nv0FOtb2yg1Hx9H4d1+71K0tvDlvPEx1mW+8icm9yys7uVJCR8Aj7ooA7nxN4hi8NaFa301tLdJNf29psjb5gZZFTdjktjOcKCeOnUjoq8UXUfANj4G0e9u/F2oXU05tIZAnji63b5njj3H/SegL7j7A1u6TPokfxn0u08P8AiG51WCXRr2S6gbxBNfqGSazCMVklcKQHcAjHU0AenUUUUAFcd4a8YW/iXxb4y0mHT7yyk8PamtjLLNjbckxJJvTH8Pz455yK84stX8H23wlu9f13xXqM+pW0NzcXcC+MbmGRmjeQlAgnUKcLgLgAdOK3L69+HdlqGk27eLL6U392bdWTxxdYjIhll3N/pPTEZH1YUAeuVgrr0J+J8vhjyXFwmlpfibeMFWlaPbjrkFc56c+1choFxpK/GaWy0HX7nVrFtFMs8T67LfqkgmUK37yR9hwWHGM++K4aPUdE/wCFJ2Wqjxjft4qYwsyf8JXcFjKZ1BXyfO29yNm3HbHagD6GooooAKgmtra5VRcW8FwF+6JEDY/Op6x7HW7O/wDFWt6PCJhd6U0S3O4DafNj3qVwSenHIHI9OaALX9l6Z/0DrH/wHX/Cj+zNNzn+z7HP/XBf8Kq6vrlnor6SLwTH+0NQjsYCgBxI4YrnJHHy44yeRx1xsUAVYrGygmEkFnawyDoyRKp/MCrVYj6/Yx/EW38MOtwuoz6e97ExUCN40dUYA5yWBdSQBwCM4yM7dABUM1tb3KqLi3huApyokQNj86mrIv8AWrTTvEeh6ZcLMbjVp5ILVlA2hkieU7snP3UboDz6UAaMdvbxW5highihOcoiAKc9eKr/ANl6Z/0DrH/wHX/Cr1YcHiCxn+IV/wCGVWddStLOK7cuoCPHIzqNpzk4KHPGBkc0AXv7L0zH/IOsf/Adf8KsxQwwQ+XBFFDHnO2NQo/IVLWTous2mu6TNeWYlWOK9uLRxIBkSQTPC/QkY3Rtjnpjp0oA1qa6JJEySKrowwysMginUUAUf7L0z/oHWP8A4Dr/AIVPDbW1ujLb28ECt94RxhQfrisrTvEFjqfi3XtFgWdL3SHiW5EihQwlTerJzkr1GcAZVgM4NblAFH+y9Nz/AMg6x/78L/hU0NpaWzs1va28DEYJjjCk/lWfoGt2fiTwbp2uaeJVs7yESRCUAOB0wcEjPHYmhdcs28fzeG8TDUI9PS+JIGwxtI8YxznIKHtjkcnnAHS5sUUVl65q9r4f8F6vrt6sr2WnWct3cCIAuUjQu2MkDOAepFAE7adp7ys72Fkzk5LGBSSfXOKT+y9M/wCgdY/+A6/4VbjkWW3jlQ5R1DKfY81l6brVpqmsa7Y24lWfSb1bS63gYLtBFOCuCeNsy9cHOeKANCG1tbYt9ntoLfd97y4wufyqP+z7AXHnCytPN3bt/kruz65x1qpqWs2ml6todnciUyarem0tigGBIIZZvmyQcbYX6A84+tarHCE4JwM4HegBaKytC1m08ReCtJ16wEosdRs47qASABgjqGAOCRnB5wT9aKAuU/F17c6b8KPE+o2Uxt7y10m5mglABKOsTMrYIIOCAeRiuQv9Ku9AuNE1W18R67PPd6taQXa3H2crcI7BCH2xAnAPBzx2r0yaGG5s5be4ijnt5UKSxSKGV1IwVIPBBHGKwLXwd4RstQgu7Lwr4ctLuFt0M0GmRI8beqsFyD7igDm30658RfErxHBc67q9pbabNbfY4LYQ7I2MIcuN8bHfljznjtisyHUdYvvhf4IifXNRhur/AFc2l1fQ+UJ5EUXB6lCoJ8tckKO/TNd5f+FvDGq6m17qnhzQdSvGUK091p8UshA6Dcyk4FTzeH9BuPDkGjz6JpE+kQ7fJsZLONoI9v3dqEbRjtgcUAceNCjPjx9NHinxf/aYsBObjfbcxGQqF3eVn7wJx0rY8JveLe+KtPu9SvtVSw1gQW8t2UMgQ2ltLtJVVB+aRz0zz7U//hAvAvm+Z/whfhPzMY3f2RBnHpnbW7p2laXo9i1rpGm2Gl2zOXaGzt1iQsQAWIUAZwBz7CgC/XmdhpN14j8SeIL278Ra5btY6zLBZx2/kBbdREg+TdEWBO5snOTk9uK9Mrnbvwh4Tv8AU572+8L+Hb28mbdNPPpsTySHAGWYrknAA59BQBxFne6xrXhf4XQy69qdlLqml/aL+5tPKWWdxbI2SShABZiSFA59uK1INAjbxrqWnReKfF0eoRWlvcXEwe2HmJI0yICwiySDE/XpkY6mutu/Dvh+/wBJs7C+0LR72xtABaW09lG8cAC7RsUjC4XjjtxWWPAXgYSs48F+Ew5ABb+yIMkDOB933P50Acqb/V/+FNhP7b1H7afFX9m/2hiPz/J/tb7PjOzbu8v5c7ffrzWvp2n3Gg/FbTdMh1nVL3T7zS725lt7kQ7fNSa1w42Rqdx86TPqWyea6n+wNC/4Rf8AsP8AsXSf7Fzn+z/safZ879+fLxt+983Trz1qPTfDfh3R757rSNA0XSrlozG0tnYxwuVJBKkqAcZAOPYUAbVcXr0d7ffErQdIg1nVNItJdMvbmX7C0atI8cloqZLo3AEr8DHX2FdpWVqehaJrXkf2zo2lat5O7yfttok3l7sZ27gcZwM464FAHHadoUd1reu2tp4p8XwXFleJFeOHtl82RoIpA2RFlvkkQZPPGOgFZlre6vqHgXwPavrupwT32uXFpdXsPlCeWOKK9ZQSUKg5hjyQozg+prrR4C8Cq7svgvwmrOcsRpEGWOMZPy+gFac3h3w/ceHrbSLjQtGn0q3IMFlJZRtBEQCAVQjavBPQdzQBzGiWdxoXxSOhRatqN7pbaP8AaEt7lYQsTibblBHGuAQeR0rj44dUHwc0/wAb/wDCT642tSxWzyMRb7GVp0zH/qs+X8x+XPGeuea9Y0zw74f0W4mm0fQ9H0mWVQsr2dlHCzgEkAlQMgZPX1qivgrwal6tyvhLwytwsolWUaXCHDg7gwO3O7POeueaAOmrhvEdvcar8QdE0E6pf2Gm3Ol3011FbCI+eUe1RQ29GyuJX4755zXc1lanoWia0IP7Z0fStW8nPk/bbRJvLzjO3cDjOBnHoKAPPpb3VdH+HvxTii1rULubR4pW065uREZIP9AilGMIFIDsSMg9fTir8+lXXh7xv4XltvEGtXSalq7Q30Nz5BWcfY7hwW2xKxYGKPBznCgdOK7G00DQrDRbrTbHRdJs9Out32m1gs0SKbcoVt6AYbKgA5HIGKq2XhLwrpuqRX2neGfD9hexZ8q4ttOijkTIKnDKoIyCRx2JoA5eDSrrxF428US3XiDWrZNN1hYbGG28gJAPsdu5K7omIYmWTnOcMR04rMtL7WNX8B/DSCXXdStptTlZb67txEs04S1nfnKFRlkUnao6enFd3e+EvCupapNfaj4Z8P397KQZbi506KSR8AKMsyknAAHPYCrFx4d8P3mhWml3ehaPdaZa4+y2c1lG8MGFKjYhGFwCQMDoSKAOa8PWtxo3xM1LQE1W/vtLi0e2nt4LlYgIGMs6EJ5aLgEIvHTjjFFdNpmgaFosk76NoukaS8wUTNZWaQmQLnaG2gZxk4z0yfWigD//2QAAAYdpAAQAAAABAAAUtAAAFLQABgEAAAQAAAABAAAAyAEBAAQAAAABAAAALQEDAAMAAAABAAYAAAESAAMAAAABAAEAAAIBAAQAAAABAAAACAICAAQAAAABAAAUmQAAAAD/4QksaHR0cDovL25zLmFkb2JlLmNvbS94YXAvMS4wLwA8P3hwYWNrZXQgYmVnaW49Iu+7vyIgaWQ9Ilc1TTBNcENlaGlIenJlU3pOVGN6a2M5ZCI/Pgo8eDp4bXBtZXRhIHhtbG5zOng9ImFkb2JlOm5zOm1ldGEvIiB4OnhtcHRrPSJYTVAgQ29yZSA1LjEuMiI+CiAgIDxyZGY6UkRGIHhtbG5zOnJkZj0iaHR0cDovL3d3dy53My5vcmcvMTk5OS8wMi8yMi1yZGYtc3ludGF4LW5zIyI+CiAgICAgIDxyZGY6RGVzY3JpcHRpb24gcmRmOmFib3V0PSIiLz4KICAgPC9yZGY6UkRGPgo8L3g6eG1wbWV0YT4KICAgICAgICAgICAgICAgICAgICAgICAgICAgICAgICAgICAgICAgICAgICAgICAgICAgICAgICAgICAgICAgICAgICAgICAgICAgICAgICAgICAgICAgICAgICAgICAgICAgIAogICAgICAgICAgICAgICAgICAgICAgICAgICAgICAgICAgICAgICAgICAgICAgICAgICAgICAgICAgICAgICAgICAgICAgICAgICAgICAgICAgICAgICAgICAgICAgICAgICAgCiAgICAgICAgICAgICAgICAgICAgICAgICAgICAgICAgICAgICAgICAgICAgICAgICAgICAgICAgICAgICAgICAgICAgICAgICAgICAgICAgICAgICAgICAgICAgICAgICAgICAKICAgICAgICAgICAgICAgICAgICAgICAgICAgICAgICAgICAgICAgICAgICAgICAgICAgICAgICAgICAgICAgICAgICAgICAgICAgICAgICAgICAgICAgICAgICAgICAgICAgIAogICAgICAgICAgICAgICAgICAgICAgICAgICAgICAgICAgICAgICAgICAgICAgICAgICAgICAgICAgICAgICAgICAgICAgICAgICAgICAgICAgICAgICAgICAgICAgICAgICAgCiAgICAgICAgICAgICAgICAgICAgICAgICAgICAgICAgICAgICAgICAgICAgICAgICAgICAgICAgICAgICAgICAgICAgICAgICAgICAgICAgICAgICAgICAgICAgICAgICAgICAKICAgICAgICAgICAgICAgICAgICAgICAgICAgICAgICAgICAgICAgICAgICAgICAgICAgICAgICAgICAgICAgICAgICAgICAgICAgICAgICAgICAgICAgICAgICAgICAgICAgIAogICAgICAgICAgICAgICAgICAgICAgICAgICAgICAgICAgICAgICAgICAgICAgICAgICAgICAgICAgICAgICAgICAgICAgICAgICAgICAgICAgICAgICAgICAgICAgICAgICAgCiAgICAgICAgICAgICAgICAgICAgICAgICAgICAgICAgICAgICAgICAgICAgICAgICAgICAgICAgICAgICAgICAgICAgICAgICAgICAgICAgICAgICAgICAgICAgICAgICAgICAKICAgICAgICAgICAgICAgICAgICAgICAgICAgICAgICAgICAgICAgICAgICAgICAgICAgICAgICAgICAgICAgICAgICAgICAgICAgICAgICAgICAgICAgICAgICAgICAgICAgIAogICAgICAgICAgICAgICAgICAgICAgICAgICAgICAgICAgICAgICAgICAgICAgICAgICAgICAgICAgICAgICAgICAgICAgICAgICAgICAgICAgICAgICAgICAgICAgICAgICAgCiAgICAgICAgICAgICAgICAgICAgICAgICAgICAgICAgICAgICAgICAgICAgICAgICAgICAgICAgICAgICAgICAgICAgICAgICAgICAgICAgICAgICAgICAgICAgICAgICAgICAKICAgICAgICAgICAgICAgICAgICAgICAgICAgICAgICAgICAgICAgICAgICAgICAgICAgICAgICAgICAgICAgICAgICAgICAgICAgICAgICAgICAgICAgICAgICAgICAgICAgIAogICAgICAgICAgICAgICAgICAgICAgICAgICAgICAgICAgICAgICAgICAgICAgICAgICAgICAgICAgICAgICAgICAgICAgICAgICAgICAgICAgICAgICAgICAgICAgICAgICAgCiAgICAgICAgICAgICAgICAgICAgICAgICAgICAgICAgICAgICAgICAgICAgICAgICAgICAgICAgICAgICAgICAgICAgICAgICAgICAgICAgICAgICAgICAgICAgICAgICAgICAKICAgICAgICAgICAgICAgICAgICAgICAgICAgICAgICAgICAgICAgICAgICAgICAgICAgICAgICAgICAgICAgICAgICAgICAgICAgICAgICAgICAgICAgICAgICAgICAgICAgIAogICAgICAgICAgICAgICAgICAgICAgICAgICAgICAgICAgICAgICAgICAgICAgICAgICAgICAgICAgICAgICAgICAgICAgICAgICAgICAgICAgICAgICAgICAgICAgICAgICAgCiAgICAgICAgICAgICAgICAgICAgICAgICAgICAgICAgICAgICAgICAgICAgICAgICAgICAgICAgICAgICAgICAgICAgICAgICAgICAgICAgICAgICAgICAgICAgICAgICAgICAKICAgICAgICAgICAgICAgICAgICAgICAgICAgICAgICAgICAgICAgICAgICAgICAgICAgICAgICAgICAgICAgICAgICAgICAgICAgICAgICAgICAgICAgICAgICAgICAgICAgIAogICAgICAgICAgICAgICAgICAgICAgICAgICAgICAgICAgICAgICAgICAgICAgICAgICAgICAgICAgICAgICAgICAgICAgICAgICAgICAgICAgICAgICAgICAgICAgICAgICAgCiAgICAgICAgICAgICAgICAgICAgICAgICAgIAo8P3hwYWNrZXQgZW5kPSJ3Ij8+/9sAQwADAgIDAgIDAwMDBAMDBAUIBQUEBAUKBwcGCAwKDAwLCgsLDQ4SEA0OEQ4LCxAWEBETFBUVFQwPFxgWFBgSFBUU/9sAQwEDBAQFBAUJBQUJFA0LDRQUFBQUFBQUFBQUFBQUFBQUFBQUFBQUFBQUFBQUFBQUFBQUFBQUFBQUFBQUFBQUFBQU/8AAEQgAhQJJAwEhAAIRAQMRAf/EAB8AAAEFAQEBAQEBAAAAAAAAAAABAgMEBQYHCAkKC//EALUQAAIBAwMCBAMFBQQEAAABfQECAwAEEQUSITFBBhNRYQcicRQygZGhCCNCscEVUtHwJDNicoIJChYXGBkaJSYnKCkqNDU2Nzg5OkNERUZHSElKU1RVVldYWVpjZGVmZ2hpanN0dXZ3eHl6g4SFhoeIiYqSk5SVlpeYmZqio6Slpqeoqaqys7S1tre4ubrCw8TFxsfIycrS09TV1tfY2drh4uPk5ebn6Onq8fLz9PX29/j5+v/EAB8BAAMBAQEBAQEBAQEAAAAAAAABAgMEBQYHCAkKC//EALURAAIBAgQEAwQHBQQEAAECdwABAgMRBAUhMQYSQVEHYXETIjKBCBRCkaGxwQkjM1LwFWJy0QoWJDThJfEXGBkaJicoKSo1Njc4OTpDREVGR0hJSlNUVVZXWFlaY2RlZmdoaWpzdHV2d3h5eoKDhIWGh4iJipKTlJWWl5iZmqKjpKWmp6ipqrKztLW2t7i5usLDxMXGx8jJytLT1NXW19jZ2uLj5OXm5+jp6vLz9PX29/j5+v/aAAwDAQACEQMRAD8A/VOigAooAKKACigAooAKKACigAooAKKACigAooAKKACigAooAKKACigAooAKKACigAooAKKACigAooAKKACigAooAKKACigAooAKKACigAooAKKACigAooAKKACigAooAKKACigAooA5v4i+P9L+GHg+/wDEmsec1labF8m2QPNPJI6xxRRqSAXd3VQCQMsMkDmqHw0+KFl8S7bVxHpepeH9W0a9On6lo2sLEt1aTbEkUMYZJI2Vo5EdWR2UhuuQQCPvNpdP+Bf7rr79Oth6JPv/AF/n/Vjs6KACigAooAKKACigAooAa7FUYhS5AyFGMn25rjfhX8ULX4raHqOoW+j6noM2nalcaTd2Gr+R58U8LBXGYJZYyMngq5zRH3pOPZX/ABS/VA9Epd3b8G/0Z2lFABRQAV5Hq/7S3h7SPig3gs6Nrt00OpWmjXet29vC1jaX1zF5sED5lExLJtO9ImRdw3MOcC96ah3/AFaS/FpfPtdoekZT7K/3av8AC7+Xc9cooAKKACigAooAKKACigDkfiB8QX8DjS4bPw1q/i3VNSmeKDS9Ee0SfaiF3kJup4YwigAE785dQAc109hcSXdjbzy2stlLLGrvbTlDJCSMlGKMykjodrEccEjmhapv+mD0aJ6KACigCvqF9Bpdhc3lzIIra3jaaWRjgKqgkk/gK5n4c+O77x/pbX914N17whAyxyW412SyZrlHXcHQW1zNtAGMiTY3PTrgWrflb8b/AOTB6Jef6b/mvvOuooAKKACigAooAKKACigDyPwt+0t4e8W/Ej/hEbTRtdiWS9v9Ntdcnt4RYXd1ZY+1QptlMylMn5pIkRtp2s3GfXKFrGM+6v8Af/VwekpR7O33b/jp/wAAKKACigDifin8U7X4T6bpOo3+i6pqlhfana6XJcaZ9nIs3uJkhiklEssbFDJIgPlh2Gc7cAmu2prWPN5tfck/1B6O3lf8Wv0CikAUUAFFABRQAUUAFFAHA/Hbwbb+PfhXrmjXGj6nrrSrHLBZ6NdQW1558cqSQyQyzssaMjqr5Y4+Xo33Tzf7Nnwr8S/D3R/Eer+NdWk1fxf4o1IajfO8scpgRIY4IIS8UUMbsscS7mSJFLMcDABop+65t7Nfi2rv7opflazu5O6il0f4W2+93Xz7o9iooEFFABRQAUUAFFABRQA12KoxClyBkKMZPtzXjf7M+meJdJsPHK+JfCGp+E5NQ8UX2r2ialc2UxmguH3Lj7NcTAMoGGDEckY3c4IaTk3/ACtfNyi/yTCesEl/Mn8uWS/No9mooAKKACvlHxd8K/iFd/tRJ4wsPCoaWPV7AWXiaC8tUsE0VYdt3Bd27OJnudzz+XIsbECRQJEXepcNKsG9l/mr/fHmS/vNPS10S/hTS3a/4b7nZ+ia12f1dRSAKKACigAooAKKACigDxj9pTwgPHvh+HRofhtf+MNWeGc6Xr1nd2dp/YV0y7Um+0SXEdxCckEtbpIcKQQeAfTvBem6po/g/Q7DW78arrNrYwQXt+oIFzOsaiSTB/vMCfxohpGV+rVl2te7/wC3vd+7WwT1lG3RO/zs0vl7336X1NmigAooAyvFLhPDep7tEl8SIbd1bR4BCXvFIIMQE7pEdwJGHdV55NeU/s5/DvVPA9/4xul0G58D+ENTntpNF8G3V1FO2mFIis7BYJJYYUkbaRFE7KNueCxUEdJSe11b11/Tv52W7CWqS8/u/wCH2/F7I9rooAKKACigAooAKKACigD5R+Gnwr+IWg/tKXXim68KjShfalqh1zXY7y1bTdR05wPsC29urmaO5XZAJHMaB9jFnk+TH1dTjpSpx7JL0/ry0tYJa1ZyWzb/AOB+Fr31vd67sopAFFAHjP7VWj+JfEfw703TfC/hTUfFd9/b2l30kOn3NnD5UNtew3MjMbmeIHKxMqhSTuIzgZI9it5GmgjkeJ4HdQxikILISPunaSMjpwSPc04/A0/5m/k4xX5pjlurdv1f+ZJRSEFFABRQAUUAeP8AiTxJ8Rdf+NGueEPCGueF/D+m6P4f0vVZJdb8P3OpzTy3dzqMRUGO+tgiqtihxhiS55GAKt/8I58b/wDoofw//wDCDvv/AJc0AH/COfG//oofw/8A/CDvv/lzR/wjnxv/AOih/D//AMIO+/8AlzQAf8I58b/+ih/D/wD8IO+/+XNH/COfG/8A6KH8P/8Awg77/wCXNAB/wjnxv/6KH8P/APwg77/5c0f8I58b/wDoofw//wDCDvv/AJc0AH/COfG//oofw/8A/CDvv/lzWTc6/wDFPwN8QPh1YeJPEvg/xBovibWp9IuIdL8L3WnXEO3TL68WRJX1GdfvWaqVMfIc8gigD2uigAooAKKACigD5/8AhPq/xv8Aih8LPBvjL/hNfh/pn/CRaLZav9i/4Qi+l+z/AGiBJfL3/wBsLu278btozjOB0rq/+Ec+N/8A0UP4f/8AhB33/wAuaALXwY8W+KtfvviBo3i+80fUdS8MeIE0qO+0TTpbCGeJ9NsbwMYZLichg14658wghAcDmvS6APn/AOE+r/G/4ofCzwb4y/4TX4f6Z/wkWi2Wr/Yv+EIvpfs/2iBJfL3/ANsLu278btozjOB0rq/+Ec+N/wD0UP4f/wDhB33/AMuaAD/hHPjf/wBFD+H/AP4Qd9/8uaP+Ec+N/wD0UP4f/wDhB33/AMuaAD/hHPjf/wBFD+H/AP4Qd9/8uaP+Ec+N/wD0UP4f/wDhB33/AMuaAD/hHPjf/wBFD+H/AP4Qd9/8ua6D4IeNb74lfBfwD4v1OK3g1LX/AA/p+q3UVorLCks9tHK6oGZiFDOQASTjGSetAHa0UAFFABRQB5V8S/FHjj/hafhDwb4N1Tw/on9qaLq2r3d7rujT6l/x6T6dEkcaRXdtt3fbnJYs33FAAyTR/wAI58b/APoofw//APCDvv8A5c0AH/COfG//AKKH8P8A/wAIO+/+XNH/AAjnxv8A+ih/D/8A8IO+/wDlzQAf8I58b/8Aoofw/wD/AAg77/5c1q/Avxjrnjn4ftf+JH0+bWrXWtZ0i4m0u1e2t5vsWp3VmsiRPLKyblt1YqZGwWPOKAD46eMdc8DfD9b/AMNvp8OtXWtaNpFvNqlq9zbw/bdTtbNpHiSWJn2rcMwUSLkqOcVlf8I58b/+ih/D/wD8IO+/+XNAB/wjnxv/AOih/D//AMIO+/8AlzR/wjnxv/6KH8P/APwg77/5c0AH/COfG/8A6KH8P/8Awg77/wCXNHw08UeOP+Fp+L/BvjLVPD+t/wBl6LpOr2l7oWjT6b/x9z6jE8ciS3dzu2/YUIYMv32BBwDQB6rRQAUUAFFAHFfG/wAa33w1+C/j7xfpkVvPqWgeH9Q1W1iu1ZoXlgtpJUVwrKSpZACAQcZwR1rn/wDhHPjf/wBFD+H/AP4Qd9/8uaAD/hHPjf8A9FD+H/8A4Qd9/wDLmj/hHPjf/wBFD+H/AP4Qd9/8uaAD/hHPjf8A9FD+H/8A4Qd9/wDLmj/hHPjf/wBFD+H/AP4Qd9/8uaAD/hHPjf8A9FD+H/8A4Qd9/wDLmuU+LGr/ABv+F/ws8ZeMv+E1+H+p/wDCO6Le6v8AYv8AhCL6L7R9ngeXy9/9sNt3bMbtpxnOD0oA+gK80+M/i3xVoF98P9G8IXmj6dqXifxA+lSX2t6dLfwwRJpt9eFhDHcQEsWs0XPmAAOTg8UAVf8AhHPjf/0UP4f/APhB33/y5rlPixq/xv8Ahf8ACzxl4y/4TX4f6n/wjui3ur/Yv+EIvovtH2eB5fL3/wBsNt3bMbtpxnOD0oA+gKKACigAooAKKAPKvDn/ACdP8Q/+xM8Nf+l2u16rQBz/AI48a2PgDRbbU9QiuJrefU9O0pVtlVmEt5ew2cTEMwG0SXCFjnIUMQCcA9BQAVz/AMPfGtj8SvAHhrxfpkVxBpuv6ZbaraxXaqsyRTxLKiuFZgGCuAQCRnOCetAHQVz9l41sb/x/rPhCOK4GpaVpljqs8rKvktFdS3cUaqd2SwaylLAgABkwTkgAHQV5V8ZP+Si/An/sc7n/ANR7WaAPVaKACigAooAKKAPKv2Tv+TWPg3/2Jmjf+kMNeq0AeVfBv/kovx2/7HO2/wDUe0avVaAPKv2Tv+TWPg3/ANiZo3/pDDXqtAHP2XjWxv8Ax/rPhCOK4GpaVpljqs8rKvktFdS3cUaqd2SwaylLAgABkwTkgdBQBz/ibxrY+Fda8J6ZdxXElx4l1N9Ks2hVSscq2VzeFpCWBC+XaSDIBO5kGMEkdBQAV5V+yd/yax8G/wDsTNG/9IYaAPVaKACigAooA8q8R/8AJ0/w8/7EzxL/AOl2hV6rQBz/AI48a2PgDRbbU9QiuJrefU9O0pVtlVmEt5ew2cTEMwG0SXCFjnIUMQCcA9BQAV5V+zT/AMk61f8A7HPxZ/6kOo0AH7S3/JOtI/7HPwn/AOpDp1eq0AFc/wCB/Gtj4/0W51PT4riG3g1PUdKZblVVjLZ3s1nKwCsRtMlu5U5yVKkgHIAB0FeVeHP+Tp/iH/2Jnhr/ANLtdoA9VooAKKACigDyr9rH/k1j4yf9iZrP/pDNXqtABXP+GfGtj4q1rxZplpFcR3HhrU00q8aZVCyStZW14GjIYkr5d3GMkA7lcYwASAdBXP3vjWxsPH+jeEJIrg6lqumX2qwSqq+SsVrLaRSKx3ZDFr2IqACCFfJGACAdBXlX7WP/ACax8ZP+xM1n/wBIZqAPVa8q+Mn/ACUX4E/9jnc/+o9rNAHqteVftY/8msfGT/sTNZ/9IZqAPVaKACigAooAKKAPCtb8a23w1/aS8W6nrOj+KJ9N1XwloVtaXmieF9S1aF5YLzWGmjL2lvKEZVuITtYg4kBGa6D/AIaW8I/9Aj4gf+G48Q//ACDQB5/8cPjbovjDwXpthpHh74gXd3D4m8Pag8f/AArzX0xBbazZXM75ayA+WGGRsdTtwASQD6B/w0t4R/6BHxA/8Nx4h/8AkGgA/wCGlvCP/QI+IH/huPEP/wAg15/+z18bdF8DfAL4aeG9b8PfECy1rR/DOmaffW3/AArzX5PJnitY45E3JZFWwykZUkHHBIoA9A/4aW8I/wDQI+IH/huPEP8A8g15/ovxt0W0+PvjLxJL4e+ICaLqHhnQ9Ptrn/hXmvnzJ7e61aSZNostw2rdQHJAB38EkNgA9A/4aW8I/wDQI+IH/huPEP8A8g1yniL4kWHxQ+KPwdt9B0Txh/xK/E1zqF7cap4O1fTbe3g/sTVIA7zXVrHGMyzxIBuyS4wDQB9AUUAFFABRQAUUAfNX7PXxt0XwN8Avhp4b1vw98QLLWtH8M6Zp99bf8K81+TyZ4rWOORNyWRVsMpGVJBxwSK9A/wCGlvCP/QI+IH/huPEP/wAg0AVP2f79tf1/4va/HpusadpuseLYrmwOt6RdaZNPEmiaVA0ghuY45NvmwypuKgEocZr2CgD5q/Z6+Nui+BvgF8NPDet+HviBZa1o/hnTNPvrb/hXmvyeTPFaxxyJuSyKthlIypIOOCRXoH/DS3hH/oEfED/w3HiH/wCQaAPP9F+Nui2nx98ZeJJfD3xATRdQ8M6Hp9tc/wDCvNfPmT291q0kybRZbhtW6gOSADv4JIbHoH/DS3hH/oEfED/w3HiH/wCQaAPP/iX8bdF8QeNPhPf2Hh74gXFpofiafUNQk/4V5r6+RA2janbB8GyBb99cwrhcn584wCR6B/w0t4R/6BHxA/8ADceIf/kGgA/4aW8I/wDQI+IH/huPEP8A8g1a/Zk0m+0D9m34UaZqdlcadqVl4S0m2urO7iaKaCVLOJXjdGAKsrAgqQCCCDQB6XRQAUUAFFAHinxU8RJ4G+Pvw/8AEl/pXiC90WPwz4g0+W50Lw/fat5M8t1o8kSSLaQysm5beYgsAD5bc5rW/wCGlvCP/QI+IH/huPEP/wAg0Aef/HD426L4w8F6bYaR4e+IF3dw+JvD2oPH/wAK819MQW2s2VzO+WsgPlhhkbHU7cAEkA+gf8NLeEf+gR8QP/DceIf/AJBoAP8Ahpbwj/0CPiB/4bjxD/8AINH7MyXH/Crri4uLDUNM+3eJvEmoQ2+qWM1lceRca3fTwu8MypIm+KRHAdQcMOKAD9plLj/hV1vcW9hqGp/YfE3hvUJrfS7Ga9uPIt9bsZ5nSGFXkfZFG7kIpOFPFH/DS3hH/oEfED/w3HiH/wCQaAD/AIaW8I/9Aj4gf+G48Q//ACDXn/wP+Nui+D/BepWGr+HviBaXc3ibxDqCR/8ACvNffMFzrN7cwPlbIj5oZo2x1G7BAIIAB6B/w0t4R/6BHxA/8Nx4h/8AkGsn4V+Ik8c/H34geJLDSvEFlosnhnQNPiudd8P32k+dPFdaxJKka3cMTPtW4hJKggeYvOaAPa6KACigAooA80/ab0m+1/8AZt+K+maZZXGo6le+EtWtrWztImlmnlezlVI0RQSzMxACgEkkAVV/4aW8I/8AQI+IH/huPEP/AMg0AH/DS3hH/oEfED/w3HiH/wCQa8/+Gnxt0Xw/40+LF/f+HviBb2mueJoNQ0+T/hXmvt58C6NplsXwLIlf31tMuGwfkzjBBIB6B/w0t4R/6BHxA/8ADceIf/kGvP8AWvjbot38ffBviSLw98QH0XT/AAzrmn3Nz/wrzXx5c9xdaTJCm02W47ltZzkAgbOSCVyAegf8NLeEf+gR8QP/AA3HiH/5Brz/APaF+Nui+OfgF8S/DeieHviBe61rHhnU9Psbb/hXmvx+dPLayRxpueyCrlmAyxAGeSBQB9K14/8AtA37aBr/AMIdfk03WNR03R/FstzfnRNIutTmgifRNVgWQw20ckm3zZok3BSAXGcUAW/+GlvCP/QI+IH/AIbjxD/8g15/+0L8bdF8c/AL4l+G9E8PfEC91rWPDOp6fY23/CvNfj86eW1kjjTc9kFXLMBliAM8kCgD6VooAKKACigAooAKKACigAooAKKACigAooAKKACigAooAKKACigAooAKKACigAooAKKACigAooAKKACigAooAKKACigAooAKKACigAooAKKACigAooAKKACigAooAKKACigAooAKKACigAooAKKACigAooAKKACigAooAKKACigAooAKKACigAooAKKACigAooAKKACigAooAKKACigAooAKKACigAooAKKACigAooAKKACigAooAKKACigAooAKKACigAooAKKACigAooAKKACigAooAKKACigAooAKKACigAooAKKACigAooAKKACigAooAKKACigAooAKKACigAooAKKACigAooAKKACigAooAKKACigAooAKKACigAooAKKACigAooAKKACigAooAKKACigAooAKKACigAooAKKACigAooAKKACigAooAKKACigAooAKKACigAooAKKACigAooAKKACigAooAKKACigAooAKKACigAooAKxPFvjfw54B0xNR8T6/pfhzT3mW3S71e9jtYmlbO1A8jAFjg4GcnFHVLv8ArsBtAggEHINLQG4VjeLfGnh7wDo0mseJ9d0zw5pMbrG9/q15HawKzHCqZJCFBJ4AzzQNJvY1opUnjSSN1kjcBldTkMD0INPptW0ZKaaugopDI5547aGSaaRYoY1LvI7BVVQMkknoBXP+CfiT4R+JdjcXnhDxToviuzt5PJmuNE1GG8jifGdrNEzAHBBweaFq2l0B6Wb6nSUUAFFABRQAUUAYnhzxx4c8YXGqW+g+INL1ufSrg2moRadex3DWc4zmKUIxMbjB+VsHjpW3R0T7/qHVrsFFABXMax8UPBvh3xXp/hjVfFuhaZ4l1EK1lo15qUMV5chiVUxwswd8lWA2g5IPpQtWord7BsnLotzp6KACigDE1nxx4c8Oa1pGj6t4g0vS9X1h2j02wvb2OG4vWXG5YY2YNIRkZCg4yK26FquZbf5A9HZhRQAUUAFFABWd4i8SaT4Q0W71jXdUstF0i0XfcX+o3CW8EK5xl5HIVRkgZJ70m1FXY0m3ZEXhfxZofjjRLfWfDms6fr+j3G7ydQ0u6S5t5cEqdsiEqcEEHB6g1rVTTi7MlNNXQUUhlfUNQtdJsbm9vrmGzsraNpp7m4kCRxIoyzsx4VQASSeABVPwz4p0bxpolrrPh7V7DXdHugTb6hplylxbzAEqSkiEq2CCOD1BoWt7dP12/J/cD0tfqalFAEdxcRWdvLPPKkEESl5JZGCqigZJJPAAHeszwp4w0Hx5okGs+Gtb07xFo85ZYtQ0q7jureQqSrBZIyVOCCDg8EGha3t0B6Wv1NeigAooAKKAMPSPHPhvxBr2raHpfiDS9S1rSCi6jptnexy3NkWGVE0asWjyAcbgM4rco6J9w2bXVBRQBh6R458N+INe1bQ9L8QaXqWtaQUXUdNs72OW5siwyomjVi0eQDjcBnFblHRPuGza6oKKAMTT/HHhzV/E2peHLHxBpd74h0xEkvtJt72OS7tFYAq0sQYugIIILAZyK26N0n0YPRtPdBRQBiW3jjw5e+LLvwvb+INLn8TWcC3NzosV7G15BEcYkeENvVTuXDEY5HrW3Ruk+jDrb+u/5BRQAUUAFeFftveItK8O/su+PX1bU7PTEurE2sDXlwkImmYgrGm4jcxAOFHJwaltLVlRTb0PZ9D1ax17RbDUtMvLfUdOu4Ent7u0lWWKaNlBV0dSQykEEEHBBq9Wkk4yae5jTacE12CvGf2yte0zw/8AstfFCbVNRtNNhn8P3trFJeTrEsk0kLrHGpYjLsxACjkk4FY1GlF3OzD/AMaD80ekeAtZ0/xD4J0HUtKvrbUtOubGGSC7s5llilXYPmV1JDD3BrerpqpqpJPuzgofwoei/IKKyNzmPie2if8ACu/EcXiPX08LaHcWMttd6zJdRWos45FKGQSygohG7gsCM44Nef8A7NPjjWvFth4os7vWrbxj4d0e/jtNC8YWdukMWsWxt43Zh5X7qQxuzRmSECNiOACGAIaymvJfJ30+9N6eV1s7uXwx9X87rX7rL9d0ez0UCCigAooAKKAPn74H+OPDniD9pL472Gl+INL1K+jutM32tnexyyp5VosUuVViRsk+Rv7rcHB4r6BpR+CL6NL8gejcXut/IKKYBXzj4y8dDwz+0Fp0fgnxzZeJ9c1fVLPTfEngJWt7qewtFjYG7UxgTWwjDB284tG27ACs4yR1qQj3evpezf8A26nf5a6ClpTnLsnb13S+drfPTU+jqKBhRQB8/ftYeOPDnhTVvg7Drev6Xo00vjazuEj1C9jgZ4kjmV3AdhlVMiAnoC656ivoGlT/AIcn/ff/AKTAJ/xEv7q/9KmFFMAooAKKACvNvj/deG4PAar4m+INt8NLc31vLaa5dXdpAq3UTiaJP9KVo3y0eSmMkKcEYyIk7WadmmmvVNW9bvS3XYqKvdWvo/y/Tcf+z74x8R+PPhVpeseKraOHVpJbmLz4bZ7aO9hjneOG6WJyWjWaNUkCk8b+OMV6NW01aTVrfp5fIzi7re/n3XR/PcKKgor6hqFrpVhc3t7cw2dlbRtNPcXEgSOJFGWZmPCqACSTwAK8M/Yk8UaN4o+A9vLo2r2Orxwa1q6SvYXKTiNm1C4kUMVJwSkiOAequp6EU463S6L9SZacrfV/oz3uikUR3FxFZ28s88qQQRKXklkYKqKBkkk8AAd68D/Ys8XaF4t+GviWXQ9a07WYo/GGvO76fdRzhVk1GeSMkoTgOjK6nurAjIIpw1crdF+qHPSnG/WS/wDSZf5n0BRSEFFABRQB89+D/G/h2/8A22/iBpFtr+l3GrJ4S0mF7CK8jadZI7m+aRDGG3BkWWIsMZAkQnG4Z+hKa1hFrZp/mxz/AIs125f/AEiIUUhHz34P8b+Hb/8Abb+IGkW2v6XcasnhLSYXsIryNp1kjub5pEMYbcGRZYiwxkCRCcbhn6EprWEWtmn+bHP+LNduX/0iIUUhHz9ZeOPDk37cmo6JH4g0uTWk8Ew27act7GbhZRdySlDHu3bhGyvjGdpDdDmvoGlD+DB/4v8A0uQS/jT/AO3f/SIhRTA+fdU8ceHE/bk8P6G2v6Wutf8ACF31v/ZxvY/tPmNdW0qp5e7duMaO4GMlVZugJr6Cpx/g03/i/wDS5kvStP8A7d/9IiFFIoKKAOK+J3xOX4ax+HI4/DmseKtS1/UzpVhpuiG1WZ5Ra3F0zFrmeGNVEVrKcl85wADmuf8A+FyeLv8AohPxA/8AA7w9/wDLWgA/4XJ4u/6IT8QP/A7w9/8ALWu1+HvjWx+JXgDw14v0yK4g03X9MttVtYrtVWZIp4llRXCswDBXAIBIznBPWgCp8TviFb/C/wAISa9caXqGt/6bZafDp2l+T9ouJ7u7htIUQzSRxjMs6ZLuoAyc8Vyv/C5PF3/RCfiB/wCB3h7/AOWtAB/wuTxd/wBEJ+IH/gd4e/8AlrXa/D3xrY/ErwB4a8X6ZFcQabr+mW2q2sV2qrMkU8SyorhWYBgrgEAkZzgnrQBU+J3xCt/hf4Qk1640vUNb/wBNstPh07S/J+0XE93dw2kKIZpI4xmWdMl3UAZOeK5X/hcni7/ohPxA/wDA7w9/8taAD/hcni7/AKIT8QP/AAO8Pf8Ay1o/4XJ4u/6IT8QP/A7w9/8ALWgA/wCFyeLv+iE/ED/wO8Pf/LWtX4efFt/HPirXvDd/4O8QeDNa0eystQlttdexk86C6e5jieNrS6nX71nMCGKkYXgg0AegUUAFFABXj9h+0DquvyalJoHwh8ceINNstTvtKGpWlxokUM8tpdS2szIs+pRybfNhkALIpIAOOaALf/C5PF3/AEQn4gf+B3h7/wCWtWvCXxnudf8AH9n4Q1n4f+KPBepXumXeq2kuty6bLDPFbS20Uyg2l5OQwa8hOGCggnB4xQB6XXj9h+0DquvyalJoHwh8ceINNstTvtKGpWlxokUM8tpdS2szIs+pRybfNhkALIpIAOOaALf/AAuTxd/0Qn4gf+B3h7/5a0f8Lk8Xf9EJ+IH/AIHeHv8A5a0AH/C5PF3/AEQn4gf+B3h7/wCWtVL/APaB1XQJNNk1/wCEPjjw/pt7qdjpR1K7uNElhglu7qK1hZ1g1KSTb5s0YJVGIBJxxQB7BXn/AMQ/i2/gbxVoPhuw8HeIPGetaxZXuoRW2hPYx+TBavbRyvI13dQL968hAClictwAKAMr/hcni7/ohPxA/wDA7w9/8taqX/7QOq6BJpsmv/CHxx4f0291Ox0o6ld3GiSwwS3d1Faws6walJJt82aMEqjEAk44oA9gooAKKACuK+J3xOX4ax+HI4/DmseKtS1/UzpVhpuiG1WZ5Ra3F0zFrmeGNVEVrKcl85wADmgDn/8Ahcni7/ohPxA/8DvD3/y1o/4XJ4u/6IT8QP8AwO8Pf/LWgA/4XJ4u/wCiE/ED/wADvD3/AMtaP+FyeLv+iE/ED/wO8Pf/AC1oA6D4Y/E5fiVH4jjk8Oax4V1LQNTGlX+m62bVpklNrb3SsGtp5o2UxXURyHznIIGK1fiF41sfhr4A8S+L9TiuJ9N0DTLnVbqK0VWmeKCJpXVAzKCxVCACQM4yR1oA4r/hcni7/ohPxA/8DvD3/wAtaP8Ahcni7/ohPxA/8DvD3/y1oA6D4Y/E5fiVH4jjk8Oax4V1LQNTGlX+m62bVpklNrb3SsGtp5o2UxXURyHznIIGK7WgDxTwn+0brXjnwro3iTRPgn8QL3RdYsodQsbn7VoEfnQSoJI32vqgZcqwOGAIzyAa1v8Ahcni7/ohPxA/8DvD3/y1oA6D4Y/E5fiVH4jjk8Oax4V1LQNTGlX+m62bVpklNrb3SsGtp5o2UxXURyHznIIGK7WgAooAK8q1D46X/wDwl/ifQdB+GHjDxb/wjt7Fp97qOlz6RFb+e9pb3YRBdX8MhxFdRZOwDJIBOKAD/hcni7/ohPxA/wDA7w9/8tateEvjPc6/4/s/CGs/D/xR4L1K90y71W0l1uXTZYZ4raW2imUG0vJyGDXkJwwUEE4PGKAPS68q1D46X/8Awl/ifQdB+GHjDxb/AMI7exafe6jpc+kRW/nvaW92EQXV/DIcRXUWTsAySATigA/4XJ4u/wCiE/ED/wADvD3/AMtateEvjPc6/wCP7PwhrPw/8UeC9SvdMu9VtJdbl02WGeK2ltoplBtLychg15CcMFBBODxigD0uvKtQ+Ol//wAJf4n0HQfhh4w8W/8ACO3sWn3uo6XPpEVv572lvdhEF1fwyHEV1Fk7AMkgE4oAP+FyeLv+iE/ED/wO8Pf/AC1o0/46X/8Awl/hjQde+GHjDwl/wkV7Lp9lqOqT6RLb+elpcXZRxa380gzFay4OwjIAJGaAPVa8q1D46X//AAl/ifQdB+GHjDxb/wAI7exafe6jpc+kRW/nvaW92EQXV/DIcRXUWTsAySATigA/4XJ4u/6IT8QP/A7w9/8ALWjT/jpf/wDCX+GNB174YeMPCX/CRXsun2Wo6pPpEtv56WlxdlHFrfzSDMVrLg7CMgAkZoA9VooAKKAPKvjJ/wAlF+BP/Y53P/qPazXqtABXlX7J3/JrHwb/AOxM0b/0hhoAP2lv+SdaR/2OfhP/ANSHTq9VoAK8q/ZO/wCTWPg3/wBiZo3/AKQw0AH7S3/JOtI/7HPwn/6kOnV6rQAVk+E/FOl+OfCujeJNEuvtui6xZQ6hY3PltH50EqCSN9rgMuVYHDAEZ5ANAGtXlXhz/k6f4h/9iZ4a/wDS7XaAPVaKACigAryr9mn/AJJ1q/8A2Ofiz/1IdRoA9VryrxH/AMnT/Dz/ALEzxL/6XaFQB6rXlX7NP/JOtX/7HPxZ/wCpDqNAHqtZNz4p0u08Vad4blutmtahZXOoW1t5bHzILd4I5n3AbRta6gGCQTv4BAbABrV5V+0t/wAk60j/ALHPwn/6kOnUAeq15V4j/wCTp/h5/wBiZ4l/9LtCoA9Vryr9pb/knWkf9jn4T/8AUh06gD1WigAooAK8q+Mn/JRfgT/2Odz/AOo9rNAHqtZPizxTpfgbwrrPiTW7r7Fouj2U2oX1z5bSeTBEhkkfagLNhVJwoJOOATQBrUUAeVfBv/kovx2/7HO2/wDUe0aj9rH/AJNY+Mn/AGJms/8ApDNQB6rRQB5V8G/+Si/Hb/sc7b/1HtGr1WgDyr9k7/k1j4N/9iZo3/pDDXqtAHlXwb/5KL8dv+xztv8A1HtGr1WgAooAK8q+Df8AyUX47f8AY523/qPaNQB6rXlXiP8A5On+Hn/YmeJf/S7QqAPVa8q+Df8AyUX47f8AY523/qPaNQB6rXlXiP8A5On+Hn/YmeJf/S7QqAPVa8q+Df8AyUX47f8AY523/qPaNQB6rXlXxk/5KL8Cf+xzuf8A1HtZoA9Vryr4N/8AJRfjt/2Odt/6j2jUAeq15V8ZP+Si/An/ALHO5/8AUe1mgD1WigAooA8q+Mn/ACUX4E/9jnc/+o9rNeq0AFeVfsnf8msfBv8A7EzRv/SGGgA/aW/5J1pH/Y5+E/8A1IdOr1WgAryr9k7/AJNY+Df/AGJmjf8ApDDQAftLf8k60j/sc/Cf/qQ6dXqtABXlX7J3/JrHwb/7EzRv/SGGgD1WvKvDn/J0/wAQ/wDsTPDX/pdrtAHqtFABRQAV5V+zT/yTrV/+xz8Wf+pDqNAHqteVeI/+Tp/h5/2JniX/ANLtCoA9Vryr9mn/AJJ1q/8A2Ofiz/1IdRoA9VryrxH/AMnT/Dz/ALEzxL/6XaFQB6rXlX7S3/JOtI/7HPwn/wCpDp1AHqteVeI/+Tp/h5/2JniX/wBLtCoA9Vryr9pb/knWkf8AY5+E/wD1IdOoA9VooAKKACvKvjJ/yUX4E/8AY53P/qPazQB6rXlX7WP/ACax8ZP+xM1n/wBIZqAPVaKAPKvg3/yUX47f9jnbf+o9o1H7WP8Ayax8ZP8AsTNZ/wDSGagD1WigDyr4N/8AJRfjt/2Odt/6j2jV6rQB5V+yd/yax8G/+xM0b/0hhr1WgDyr4N/8lF+O3/Y523/qPaNXqtABRQAV5V8G/wDkovx2/wCxztv/AFHtGoA9VryrxH/ydP8ADz/sTPEv/pdoVAHqteVfBv8A5KL8dv8Asc7b/wBR7RqAPVa8q8R/8nT/AA8/7EzxL/6XaFQB6rXlXwb/AOSi/Hb/ALHO2/8AUe0agD1WvKvjJ/yUX4E/9jnc/wDqPazQB6rXlXwb/wCSi/Hb/sc7b/1HtGoA9Vryr4yf8lF+BP8A2Odz/wCo9rNAHqtFABRQBz/jX4e+FfiVpUWmeL/DOj+KtNimFzHZ63YRXkKShWUSBJFYBgruN2M4Yjua4r/hk74If9Eb+H//AIS9j/8AGqAD/hk74If9Eb+H/wD4S9j/APGq9K0nSbHQNKstM0yyt9O02yhS2tbO0iWKGCJFCpGiKAFVVAAUAAAACgCp4p8J6H450K60TxJo2n+INFutv2jTtUtUubebawdd8bgq2GVWGRwVB6iuA/4ZO+CH/RG/h/8A+EvY/wDxqgA/4ZO+CH/RG/h//wCEvY//ABqvStJ0mx0DSrLTNMsrfTtNsoUtrWztIlihgiRQqRoigBVVQAFAAAAAoAqeKfCeh+OdCutE8SaNp/iDRbrb9o07VLVLm3m2sHXfG4KthlVhkcFQeorgP+GTvgh/0Rv4f/8AhL2P/wAaoAP+GTvgh/0Rv4f/APhL2P8A8ao/4ZO+CH/RG/h//wCEvY//ABqgA/4ZO+CH/RG/h/8A+EvY/wDxquq8C/CfwP8AC/7d/wAIb4N8P+Evt2z7X/YWlwWX2jZu2eZ5SLu273xnONzY6mgDq6KACigArzTVv2ZPg9r+q3up6n8KPA+o6lezPc3V5d+HLOWaeV2LPI7tGSzMxJLEkkkk0AVf+GTvgh/0Rv4f/wDhL2P/AMaroPBXwQ+HXw11WXU/CHgHwv4V1KWE20l5omjW1nM8RZWMZeNFJUsiHbnGVB7CgDta801b9mT4Pa/qt7qep/CjwPqOpXsz3N1eXfhyzlmnldizyO7RkszMSSxJJJJNAFX/AIZO+CH/AERv4f8A/hL2P/xqj/hk74If9Eb+H/8A4S9j/wDGqAD/AIZO+CH/AERv4f8A/hL2P/xqrWk/syfB7QNVstT0z4UeB9O1KymS5tby08OWcU0EqMGSRHWMFWVgCGBBBAIoA9LrlPHXwn8D/FD7D/wmXg3w/wCLfsO/7J/bulwXv2fft3+X5qNt3bEzjGdq56CgDlf+GTvgh/0Rv4f/APhL2P8A8aq1pP7Mnwe0DVbLU9M+FHgfTtSspkubW8tPDlnFNBKjBkkR1jBVlYAhgQQQCKAPS6KACigArn/Gvw98K/ErSotM8X+GdH8VabFMLmOz1uwivIUlCsokCSKwDBXcbsZwxHc0AcV/wyd8EP8Aojfw/wD/AAl7H/41R/wyd8EP+iN/D/8A8Jex/wDjVAB/wyd8EP8Aojfw/wD/AAl7H/41R/wyd8EP+iN/D/8A8Jex/wDjVAHa+Cvh74V+GulS6Z4Q8M6P4V02WY3MlnolhFZwvKVVTIUjVQWKog3YzhQOwrV1bSbHX9KvdM1Oyt9R029he2urO7iWWGeJ1KvG6MCGVlJBUgggkGgDzX/hk74If9Eb+H//AIS9j/8AGqP+GTvgh/0Rv4f/APhL2P8A8aoA7XwV8PfCvw10qXTPCHhnR/CumyzG5ks9EsIrOF5SqqZCkaqCxVEG7GcKB2FdBQB5V/wyd8EP+iN/D/8A8Jex/wDjVH/DJ3wQ/wCiN/D/AP8ACXsf/jVAHa+Cvh74V+GulS6Z4Q8M6P4V02WY3MlnolhFZwvKVVTIUjVQWKog3YzhQOwroKACigArz/xT+z18LPHOu3Wt+JPhp4P8Qa1dbftGo6poNrc3E21Qi75HjLNhVVRk8BQOgoAyv+GTvgh/0Rv4f/8AhL2P/wAaroPBXwQ+HXw11WXU/CHgHwv4V1KWE20l5omjW1nM8RZWMZeNFJUsiHbnGVB7CgDta8/8U/s9fCzxzrt1rfiT4aeD/EGtXW37RqOqaDa3NxNtUIu+R4yzYVVUZPAUDoKAMr/hk74If9Eb+H//AIS9j/8AGq6DwV8EPh18NdVl1Pwh4B8L+FdSlhNtJeaJo1tZzPEWVjGXjRSVLIh25xlQewoA7WvP/FP7PXws8c67da34k+Gng/xBrV1t+0ajqmg2tzcTbVCLvkeMs2FVVGTwFA6CgDK/4ZO+CH/RG/h//wCEvY//ABqtXwt+z18LPA2u2ut+G/hp4P8AD+tWu77PqOl6Da21xDuUo2yRIwy5VmU4PIYjoaAPQK8/8U/s9fCzxzrt1rfiT4aeD/EGtXW37RqOqaDa3NxNtUIu+R4yzYVVUZPAUDoKAMr/AIZO+CH/AERv4f8A/hL2P/xqtXwt+z18LPA2u2ut+G/hp4P8P61a7vs+o6XoNrbXEO5SjbJEjDLlWZTg8hiOhoA9AooAKKACigAooAKKACigAooAKKACigAooAKKACigAooAKKACigAooAKKACigAooAKKACigAooAKKACigAooAKKACigAooAKKACigAooAKKACigAooAKKACigAooAKKAP/9k=)"
      ],
      "metadata": {
        "id": "pvp9e30KWUj3"
      }
    },
    {
      "cell_type": "markdown",
      "source": [
        "#2-Código"
      ],
      "metadata": {
        "id": "4QRSbLi2SY2I"
      }
    },
    {
      "cell_type": "code",
      "source": [
        "import random\n",
        "\n",
        "def cutrod_instance_generator(N):\n",
        "  A = []\n",
        "  prev = 0\n",
        "  for i in range(N):\n",
        "    r=random.randint(0,10)\n",
        "    A.append(prev+r)\n",
        "    prev+=r\n",
        "  return A\n",
        "\n",
        "def RecursiveCut(A, index, N, recursiones, verbose = False):\n",
        "  recursiones[0] += 1\n",
        "  if verbose:\n",
        "      print(\"Varilla de largo\", N)\n",
        "  if index == 0:\n",
        "    if verbose:\n",
        "      print(\"Valor:\", N * A[0])\n",
        "    return N * A[0]\n",
        "  \n",
        "  notCut = RecursiveCut(A,index - 1,N, recursiones, verbose)\n",
        "  cut = -32767\n",
        "  rod_length = index + 1;\n",
        "\n",
        "  if rod_length <= N:\n",
        "    \n",
        "    cut = A[index]+ RecursiveCut(A,index,N - rod_length, recursiones, verbose);\n",
        "    if verbose:\n",
        "      print(\"Valor:\", max(notCut, cut))\n",
        "\n",
        "  return max(notCut, cut);\n",
        "\n",
        "verbose = False\n",
        "n = 5\n",
        "array = cutrod_instance_generator(n)\n",
        "recursiones = [0]\n",
        "print(\"Precios:\",array)\n",
        "print(\"Maxima ganancia\", RecursiveCut(array,len(array)-1,len(array),recursiones,verbose))\n",
        "if verbose:\n",
        "  print(\"Recursiones:\", recursiones[0])"
      ],
      "metadata": {
        "colab": {
          "base_uri": "https://localhost:8080/"
        },
        "id": "gV53QUHmXA4O",
        "outputId": "6d886b2d-ff14-4933-fd13-018d5f538c2a"
      },
      "execution_count": 120,
      "outputs": [
        {
          "output_type": "stream",
          "name": "stdout",
          "text": [
            "Precios: [10, 10, 16, 23, 30]\n",
            "Maxima ganancia 50\n"
          ]
        }
      ]
    },
    {
      "cell_type": "code",
      "source": [
        "def bottomUpCut(A, N, cont, verbose = False):\n",
        "    r = [-1]*(N + 1)\n",
        "    r[0] = 0\n",
        "\n",
        "    s = [-1]*(N + 1)\n",
        " \n",
        "    for i in range(1, N+1):\n",
        "        q = -1\n",
        "        for j in range(1, i + 1):\n",
        "            cont[0] += 1\n",
        "            temp = A[j] + r[i - j]\n",
        "            if verbose:\n",
        "              print(\"\\nBarra de largo\", i)\n",
        "              print(\"Con cortes de largo:\", j)\n",
        "              print(\"Valor:\",temp)\n",
        "            if q < temp:\n",
        "                q = temp\n",
        "                s[i] = j\n",
        "        r[i] = q\n",
        " \n",
        "    return r, s\n",
        "\n",
        "n = 5\n",
        "p = cutrod_instance_generator(n+1)\n",
        "\n",
        "\n",
        "cont = [0]\n",
        "verbose = False\n",
        " \n",
        "print(\"Precios:\", p[1:])\n",
        "r, s = bottomUpCut(p, n, cont, verbose)\n",
        "\n",
        "print('\\nMaxima ganancia:', r[n])\n",
        "print('Cortes necesarios: ', end='')\n",
        "\n",
        "while n > 0:\n",
        "    print(s[n], end=' ')\n",
        "    n -= s[n]\n",
        "\n",
        "if verbose:\n",
        "  print(\"\\nSubProblemas resueltos:\", cont[0])"
      ],
      "metadata": {
        "id": "Iey4RX1kq1eW",
        "colab": {
          "base_uri": "https://localhost:8080/"
        },
        "outputId": "9eb6e9c6-5f13-4464-a96c-de96796ae773"
      },
      "execution_count": 108,
      "outputs": [
        {
          "output_type": "stream",
          "name": "stdout",
          "text": [
            "Precios: [4, 5, 11, 14, 21]\n",
            "\n",
            "Maxima ganancia: 21\n",
            "Cortes necesarios: 5 "
          ]
        }
      ]
    },
    {
      "cell_type": "markdown",
      "source": [
        "#2.1 Descripción del algoritmo\n",
        "\n",
        "Solución recursiva:\n",
        "\n",
        "Para solucionar este problema de manera recursiva se divide la varilla y se le aplica la misma función a cada división de la varilla, el valor máximo se actualizará con el mayor valor obtenido por cada recursión realizada a cada corte de varilla.\n",
        "\n",
        "Solución bottomUp:\n",
        "\n",
        "Para solucionar este problema de manera dinámica, se guarda en un arreglo extra el máximo valor que se optiene para cada subproblema, para esto se recorrerán todos los subproblemas posibles con un ciclo for con la $i$ desde $A[0]$ hasta $A[n]$ y luego en cada iteración $i$ se obtiene el valor de cada corte posible iterando con la variable $j$."
      ],
      "metadata": {
        "id": "nFlgzmyIenVb"
      }
    },
    {
      "cell_type": "markdown",
      "source": [
        "#2.2 - Ejecución paso a paso:\n",
        "\n",
        "Haciendo uso de la opción verbose del algoritmo dinámico podemos observar la ejecución paso a paso del algoritmo, el siguiente ejemplo utiliza el arreglo $[10, 20, 30, 40, 41]$: \n",
        "\n",
        "Precios: [10, 20, 30, 40, 41]\n",
        "\n",
        "Barra de largo 1\n",
        "Con cortes de largo: 1\n",
        "Valor: 10\n",
        "\n",
        "Barra de largo 2\n",
        "Con cortes de largo: 1\n",
        "Valor: 20\n",
        "\n",
        "Barra de largo 2\n",
        "Con cortes de largo: 2\n",
        "Valor: 20\n",
        "\n",
        "Barra de largo 3\n",
        "Con cortes de largo: 1\n",
        "Valor: 30\n",
        "\n",
        "Barra de largo 3\n",
        "Con cortes de largo: 2\n",
        "Valor: 30\n",
        "\n",
        "Barra de largo 3\n",
        "Con cortes de largo: 3\n",
        "Valor: 30\n",
        "\n",
        "Barra de largo 4\n",
        "Con cortes de largo: 1\n",
        "Valor: 40\n",
        "\n",
        "Barra de largo 4\n",
        "Con cortes de largo: 2\n",
        "Valor: 40\n",
        "\n",
        "Barra de largo 4\n",
        "Con cortes de largo: 3\n",
        "Valor: 40\n",
        "\n",
        "Barra de largo 4\n",
        "Con cortes de largo: 4\n",
        "Valor: 40\n",
        "\n",
        "Barra de largo 5\n",
        "Con cortes de largo: 1\n",
        "Valor: 50\n",
        "\n",
        "Barra de largo 5\n",
        "Con cortes de largo: 2\n",
        "Valor: 50\n",
        "\n",
        "Barra de largo 5\n",
        "Con cortes de largo: 3\n",
        "Valor: 50\n",
        "\n",
        "Barra de largo 5\n",
        "Con cortes de largo: 4\n",
        "Valor: 50\n",
        "\n",
        "Barra de largo 5\n",
        "Con cortes de largo: 5\n",
        "Valor: 41\n",
        "\n",
        "Maxima ganancia: 50\n",
        "Cortes necesarios: 1 1 1 1 1 \n",
        "SubProblemas resueltos: 15\n"
      ],
      "metadata": {
        "id": "z975t6jUxh3d"
      }
    },
    {
      "cell_type": "markdown",
      "source": [
        "#3 - Tiempo de ejecución\n",
        "\n",
        "Teniendo en cuenta que para encontrar el retorno máximo $r_n$ el algoritmo necesita solucionar cada problema por varilla de largo $k= 1...n$antes de solucionar el problema original. Y por cada sub-problema $k$ se debe de encontrar cada uno de los cortes de la varilla, siendo esto igual a $j = 1...k$ que sería el punto de corte. Esto significa que por cada problema $k$ se resuelven $j$ sub-problemos, lo que matematicamente se puede plantear como:\n",
        "\n",
        "$T(n)=\\sum\\limits_{i=1}^{n+1}\\sum\\limits_{j=0}^{i}c$\n",
        "\n",
        "$T(n)=c\\sum\\limits_{i=1}^{n+1}j$\n",
        "$\\sum\\limits_{i=1}^{n} i=\\frac{n(n+1)}{2}$\n",
        "\n",
        "$T(n)=c*\\frac{n(n+1)}{2}$\n",
        "\n",
        "Considerando que el tiempo para resolver cada sub-problema es constante, ya que los valores que utiliza la función se obtienen a partir de 2 arreglos, por lo que el tiempo que posee esto es de $O(1)$.\n",
        "\n",
        "Para construir la solución se debe de obtener los cortes para la varilla, estos se obtienen por medio del arreglo $D$ que posee tamaño $n$ y donde se guarda el índice ($j$)donde sea realizo el corte en cada varilla de largo$i$. El peor caso de esto es cuando todo esto da $n$ varilla de largo 1, por lo el tiempo de ejecución sería $O(n)$.\n",
        "\n",
        "Con todo lo anterior podemos definir 3 funciones:\n",
        "> $f(n)$ Que corresponde a la cantidad de sub-problemas\n",
        "> $g(n)$ Es el tiempo que toma resolver cada sub-problema.\n",
        "> $h(n)$ El tiempo en construir la solución.\n",
        "\n",
        "Reemplazando se obtiene que:\n",
        "$T(n) = O(n^2) + O(1) + O(n)$\n",
        "$T(n) = O(n^2)$\n",
        "\n",
        "Dado que el algoritmo se trata de uno de optimización el peor caso y el mejor son iguales, por lo que determina el tiempo de ejecución es tamaño del problema que recibe, por lo que se puede decir que la complejidad del algoritmo es $O(n^2)$."
      ],
      "metadata": {
        "id": "AJmYEa5xPJEU"
      }
    },
    {
      "cell_type": "markdown",
      "source": [
        "#4 - Correctitud\n",
        "\n",
        "El algoritmo recibe un arreglo $[a_1, a_2,..., a_n]$ de precios de venta, de donde retorna correctamente la ganancia máxima $r_n$.\n",
        "\n",
        "##Prueba del Teorema.\n",
        "\n",
        "Para comprobar el teorema utilizaremos inducción matemática con 2 casos.\n",
        "\n",
        "###Caso base $(n=1)$\n",
        "Para un varilla de largo 1, el algoritmo retorna inmediatamente el precio de la varilla ya que esta posee el tamaño minimo, por lo que no se puede dividir y solo posee un valor para $r_n$.\n",
        "\n",
        "###Caso general $(n>1)$\n",
        "Para una varilla de largo mayor a 1, se calcula la ganancia obtenida de $j$ ($1..n$), donde este es el tamaño de todos los posibles sub-problemas en los que se puede dividir el problema original. La función que obtiene el valor $r_n$ se puede describir de manera matemática como: \n",
        "\n",
        "$r_n = Precios_j + r_n-j$\n",
        "\n",
        "> $Precios_j$ es el precio de una varilla de largo $j$, y $r_n-j$ es la ganancia máxima para una varilla de largo $n-j$.\n",
        "\n",
        "Con esto sabemos que para cualquier varilla con largo $n-j$, ($j>=1$) su ganancia máxima se calculada correctamente.\n",
        "\n",
        "Como se consideran todos los sub-problemas que pueden salir del problema original, sabemos que uno de estos será el valor que maximice la solucón buscada. El algoritmo retornará el $r_n$ máximo de todos los valores máximos de los sub-problemas.\n",
        "\n",
        "Considerando todo lo anterior como correcto gracias al caso base y al general, podemos decir de que algoritmo es correcto."
      ],
      "metadata": {
        "id": "BpIiLAaXPSxU"
      }
    },
    {
      "cell_type": "markdown",
      "source": [
        "#5 - Experimentos"
      ],
      "metadata": {
        "id": "ulZbbrgJTo_L"
      }
    },
    {
      "cell_type": "code",
      "source": [
        "import matplotlib.pyplot as plt\n",
        "import datetime\n",
        "from timeit import repeat\n",
        "\n",
        "x=[]; y=[]; x2=[]; y2=[]\n",
        "\n",
        "for n in range(5,25):\n",
        "  nums = []\n",
        "  nums2 = []\n",
        "\n",
        "  for i in range(0,n):\n",
        "    cont = [0]\n",
        "    a = cutrod_instance_generator(n)\n",
        "\n",
        "    t = repeat(setup=\"from __main__ import bottomUpCut\", stmt=f\"bottomUpCut({a},{len(a)-1},{cont})\", repeat=1, number=10)\n",
        "    t2 = repeat(setup=\"from __main__ import RecursiveCut\", stmt=f\"RecursiveCut({a},{len(a)-1},{len(a)}, {cont})\", repeat=1, number=10)\n",
        "\n",
        "    x.append(n)\n",
        "    y.append(t)\n",
        "\n",
        "    x2.append(n)\n",
        "    y2.append(t2)\n",
        "\n",
        "\n",
        "plt.plot(x,y)\n",
        "plt.plot(x2,y2)\n",
        "plt.legend([\"Corte dinámico\", \"Corte Recursivo\"])\n",
        "\n",
        "plt.xlabel('n')\n",
        "plt.ylabel('time in ms')\n",
        "plt.show()"
      ],
      "metadata": {
        "id": "Rh_HB9IGkejr",
        "colab": {
          "base_uri": "https://localhost:8080/",
          "height": 279
        },
        "outputId": "88fe56c3-989e-40c8-ced0-41bc7b52e3e0"
      },
      "execution_count": 44,
      "outputs": [
        {
          "output_type": "display_data",
          "data": {
            "text/plain": [
              "<Figure size 432x288 with 1 Axes>"
            ],
            "image/png": "[encoded data removed]"
          },
          "metadata": {
            "needs_background": "light"
          }
        }
      ]
    },
    {
      "cell_type": "markdown",
      "source": [
        "**Análisis de resultados**\n",
        "\n",
        "En el gráfico se aprecia una gran diferencia en el tiempo de ejecución de ambos algoritmos, y siendo algo a apreciar es que, a pesar de que la implementación dinámica tiene complejidad O(n^2), es abismalmente más rápida que la implementación recursiva."
      ],
      "metadata": {
        "id": "q3zJ2TDmuTkM"
      }
    },
    {
      "cell_type": "code",
      "source": [
        "import matplotlib.pyplot as plt\n",
        "\n",
        "x=[n for n in range(5,500)] \n",
        "y=[]; \n",
        "\n",
        "for n in range(5,500):\n",
        "  cont = [0]\n",
        "  a = cutrod_instance_generator(n)\n",
        "  bottomUpCut(a, len(a)-1, cont)\n",
        "  y.append(cont[0])\n",
        "\n",
        "plt.plot(x,y)\n",
        "plt.legend([\"Numero de problemas a resolver\"])\n",
        "\n",
        "plt.xlabel('n')\n",
        "plt.ylabel('number of operations')\n",
        "plt.show()"
      ],
      "metadata": {
        "colab": {
          "base_uri": "https://localhost:8080/",
          "height": 279
        },
        "id": "YMbeFwoKkmr0",
        "outputId": "03161e7b-66c4-4307-8fd1-c5809e3a6667"
      },
      "execution_count": 97,
      "outputs": [
        {
          "output_type": "display_data",
          "data": {
            "text/plain": [
              "<Figure size 432x288 with 1 Axes>"
            ],
            "image/png": "[encoded data removed]"
          },
          "metadata": {
            "needs_background": "light"
          }
        }
      ]
    },
    {
      "cell_type": "markdown",
      "source": [
        "**Análisis de resultados**\n",
        "\n",
        "El número de problemas aumenta de manera exponencial como se puede apreciar en el gráfico, esto coincide con la complejidad temporal $O(n^2)$ del algoritmo."
      ],
      "metadata": {
        "id": "946FcHTTtyAT"
      }
    }
  ]
}